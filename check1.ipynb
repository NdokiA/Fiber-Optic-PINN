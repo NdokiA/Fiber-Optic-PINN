{
 "cells": [
  {
   "cell_type": "code",
   "execution_count": 1,
   "metadata": {},
   "outputs": [],
   "source": [
    "import numpy as np\n",
    "import matplotlib.pyplot as plt \n",
    "import tensorflow as tf \n",
    "\n",
    "\n",
    "from network import physicsNetwork\n",
    "from initializer import initData, batchData\n",
    "from optimizer import pinnOptimizer"
   ]
  },
  {
   "cell_type": "markdown",
   "metadata": {},
   "source": [
    "# Inspecting Initial Condition"
   ]
  },
  {
   "cell_type": "code",
   "execution_count": 2,
   "metadata": {},
   "outputs": [],
   "source": [
    "N = 2**15\n",
    "dt = 1e-13\n",
    "\n",
    "t = np.linspace(0, N*dt, N)\n",
    "t = t-t.mean()"
   ]
  },
  {
   "cell_type": "code",
   "execution_count": 3,
   "metadata": {},
   "outputs": [],
   "source": [
    "L = 1000\n",
    "nsteps = 2**8 + 1 \n",
    "zlocs = np.linspace(0, L, nsteps)"
   ]
  },
  {
   "cell_type": "code",
   "execution_count": 4,
   "metadata": {},
   "outputs": [],
   "source": [
    "alpha = .2e-3 \n",
    "gamma = 10e-3 \n",
    "beta2 = 100e3*(1e-30)\n",
    "regularizer_param = 1"
   ]
  },
  {
   "cell_type": "code",
   "execution_count": 5,
   "metadata": {},
   "outputs": [
    {
     "data": {
      "text/plain": [
       "(-64.0, 64.0, 0.0, 0.067138671875)"
      ]
     },
     "execution_count": 5,
     "metadata": {},
     "output_type": "execute_result"
    },
    {
     "data": {
      "image/png": "[encoded data removed]",
      "text/plain": [
       "<Figure size 640x480 with 1 Axes>"
      ]
     },
     "metadata": {},
     "output_type": "display_data"
    }
   ],
   "source": [
    "def getPower(u):\n",
    "    return np.abs(u)**2\n",
    "\n",
    "def sechPulse(time, amplitude, duration):\n",
    "    return amplitude/np.cosh(time/duration)\n",
    "\n",
    "duration = 2**7*dt\n",
    "amplitude = np.sqrt(np.abs(beta2)/gamma/duration**2)\n",
    "pulse = sechPulse(t, amplitude, duration)\n",
    "\n",
    "plt.plot(t*1e12, getPower(pulse))\n",
    "plt.axis([-duration*5*1e12, duration*5*1e12, 0, 1.1*amplitude**2])"
   ]
  },
  {
   "cell_type": "markdown",
   "metadata": {},
   "source": [
    "# Initializing Collocation Point"
   ]
  },
  {
   "cell_type": "code",
   "execution_count": 6,
   "metadata": {},
   "outputs": [],
   "source": [
    "t_new = t[(t>-5*duration) & (t<5*duration)]*1e12\n",
    "\n",
    "num_train = 1000\n",
    "num_label = 1000\n",
    "t_f = t_new[-1]\n",
    "t_init = t_new[0]\n",
    "\n",
    "x_f = 1000\n",
    "x_init = 0 \n",
    "\n",
    "start_point = np.array([t_init, x_init])\n",
    "final_point = np.array([t_f, x_f])\n",
    "\n",
    "def sechPulse(time, amplitude, duration):\n",
    "    time = time/1e12\n",
    "    return amplitude/np.cosh(time/duration)\n",
    "\n",
    "duration = 2**7*dt\n",
    "amplitude = np.sqrt(np.abs(beta2)/gamma/duration**2)"
   ]
  },
  {
   "cell_type": "code",
   "execution_count": 7,
   "metadata": {},
   "outputs": [],
   "source": [
    "gen_data = initData()\n",
    "\n",
    "\n",
    "#collocation point \n",
    "col_point = gen_data.init_points(final_point, start_point, num_train)\n",
    "\n",
    "#initial condition (x = 0)\n",
    "init_point = np.zeros((num_label, 2))\n",
    "init_point[..., 0] = gen_data.init_points(t_f, t_init, num_label).reshape(-1)\n",
    "init_point[..., 1] = x_init*np.ones_like(init_point[..., 1])\n",
    "\n",
    "u_init = sechPulse(init_point[..., 0], amplitude, duration) #real part\n",
    "u_init = np.expand_dims(u_init, axis=1)\n",
    "v_init = np.zeros_like(u_init) #imaginary part\n",
    "\n",
    "#lower boundary condition (t = t_init)\n",
    "lower_point = np.zeros((num_label, 2))\n",
    "lower_point[..., 0] = t_init*np.ones_like(lower_point[..., 0])\n",
    "lower_point[..., 1] = gen_data.init_points(x_f, x_init, num_label).reshape(-1)\n",
    "\n",
    "u_lower = np.zeros_like(lower_point[..., 0])\n",
    "u_lower = np.expand_dims(u_lower, axis=1)\n",
    "v_lower = np.zeros_like(u_lower)\n",
    "\n",
    "#upper boundary condition (t = t_f)\n",
    "upper_point = np.zeros((num_label, 2))\n",
    "upper_point[..., 0] = t_f*np.ones_like(upper_point[..., 0])\n",
    "upper_point[..., 1] = gen_data.init_points(x_f, x_init, num_label).reshape(-1)\n",
    "\n",
    "u_upper = np.zeros_like(upper_point[..., 0])\n",
    "u_upper = np.expand_dims(u_upper, axis=1)\n",
    "v_upper = np.zeros_like(u_upper)\n",
    "\n",
    "\n"
   ]
  },
  {
   "cell_type": "markdown",
   "metadata": {},
   "source": [
    "## Initialize and Batch Data"
   ]
  },
  {
   "cell_type": "code",
   "execution_count": 8,
   "metadata": {},
   "outputs": [],
   "source": [
    "preparation = batchData()\n",
    "preparation.add_collocation_point(col_point)\n",
    "preparation.add_labelled_data(init_point, u_init, v_init, 'init_point')\n",
    "preparation.add_labelled_data(lower_point, u_lower, v_lower, 'bound_lower')\n",
    "preparation.add_labelled_data(upper_point, u_upper, v_upper, 'bound_upper')\n",
    "\n",
    "batched_data = preparation.batch_data()\n",
    "keys = preparation.get_keys()"
   ]
  },
  {
   "cell_type": "code",
   "execution_count": 9,
   "metadata": {},
   "outputs": [
    {
     "name": "stdout",
     "output_type": "stream",
     "text": [
      "col_point: 10\n",
      "init_point: 10\n",
      "bound_lower: 10\n",
      "bound_upper: 10\n"
     ]
    }
   ],
   "source": [
    "for key in keys:\n",
    "    print(f'{key}: {len(batched_data[key])}')"
   ]
  },
  {
   "cell_type": "markdown",
   "metadata": {},
   "source": [
    "# Initializing Model"
   ]
  },
  {
   "cell_type": "code",
   "execution_count": 10,
   "metadata": {},
   "outputs": [],
   "source": [
    "model = physicsNetwork.build()"
   ]
  },
  {
   "cell_type": "markdown",
   "metadata": {},
   "source": [
    "# Fit Model"
   ]
  },
  {
   "cell_type": "code",
   "execution_count": 11,
   "metadata": {},
   "outputs": [
    {
     "name": "stdout",
     "output_type": "stream",
     "text": [
      "Epoch 1/1\n"
     ]
    },
    {
     "name": "stderr",
     "output_type": "stream",
     "text": [
      "Training Batches:   0%|          | 0/10 [00:00<?, ?batch/s]"
     ]
    },
    {
     "name": "stdout",
     "output_type": "stream",
     "text": [
      "tf.Tensor(0.018425556, shape=(), dtype=float32)\n",
      "tf.Tensor(0.018425556, shape=(), dtype=float32)\n",
      "tf.Tensor(0.007756015, shape=(), dtype=float32)\n",
      "tf.Tensor(0.002997867, shape=(), dtype=float32)\n",
      "tf.Tensor(0.0042330297, shape=(), dtype=float32)\n",
      "tf.Tensor(0.0054532476, shape=(), dtype=float32)\n",
      "tf.Tensor(0.030203465, shape=(), dtype=float32)\n",
      "tf.Tensor(0.04717701, shape=(), dtype=float32)\n",
      "tf.Tensor(0.030369977, shape=(), dtype=float32)\n",
      "tf.Tensor(0.0123565085, shape=(), dtype=float32)\n",
      "tf.Tensor(0.010682022, shape=(), dtype=float32)\n",
      "tf.Tensor(0.010098362, shape=(), dtype=float32)\n",
      "tf.Tensor(0.008028814, shape=(), dtype=float32)\n",
      "tf.Tensor(0.0034182966, shape=(), dtype=float32)\n",
      "tf.Tensor(0.004998482, shape=(), dtype=float32)\n",
      "tf.Tensor(0.002529286, shape=(), dtype=float32)\n",
      "tf.Tensor(0.0015451391, shape=(), dtype=float32)\n",
      "tf.Tensor(0.0007533269, shape=(), dtype=float32)\n",
      "tf.Tensor(0.00091421563, shape=(), dtype=float32)\n",
      "tf.Tensor(0.0017091418, shape=(), dtype=float32)\n",
      "tf.Tensor(0.0013645124, shape=(), dtype=float32)\n",
      "tf.Tensor(0.0009117627, shape=(), dtype=float32)\n",
      "tf.Tensor(0.00053302734, shape=(), dtype=float32)\n",
      "tf.Tensor(0.0007579683, shape=(), dtype=float32)\n",
      "tf.Tensor(0.0010000842, shape=(), dtype=float32)\n",
      "tf.Tensor(0.0010640345, shape=(), dtype=float32)\n",
      "tf.Tensor(0.0007585817, shape=(), dtype=float32)\n",
      "tf.Tensor(0.0010692822, shape=(), dtype=float32)\n",
      "tf.Tensor(0.0015129303, shape=(), dtype=float32)\n",
      "tf.Tensor(0.001007465, shape=(), dtype=float32)\n",
      "tf.Tensor(0.0010836513, shape=(), dtype=float32)\n",
      "tf.Tensor(0.00093527697, shape=(), dtype=float32)\n",
      "tf.Tensor(0.0011168722, shape=(), dtype=float32)\n",
      "tf.Tensor(0.0011541196, shape=(), dtype=float32)\n",
      "tf.Tensor(0.0009774213, shape=(), dtype=float32)\n",
      "tf.Tensor(0.000658393, shape=(), dtype=float32)\n",
      "tf.Tensor(0.0008552822, shape=(), dtype=float32)\n",
      "tf.Tensor(0.00056852004, shape=(), dtype=float32)\n",
      "tf.Tensor(0.00063152716, shape=(), dtype=float32)\n",
      "tf.Tensor(0.00040876053, shape=(), dtype=float32)\n",
      "tf.Tensor(0.00043143638, shape=(), dtype=float32)\n",
      "tf.Tensor(0.0011813409, shape=(), dtype=float32)\n",
      "tf.Tensor(0.00044039515, shape=(), dtype=float32)\n",
      "tf.Tensor(0.000469912, shape=(), dtype=float32)\n",
      "tf.Tensor(0.0010912395, shape=(), dtype=float32)\n",
      "tf.Tensor(0.0004873996, shape=(), dtype=float32)\n",
      "tf.Tensor(0.0005266672, shape=(), dtype=float32)\n",
      "tf.Tensor(0.00078551477, shape=(), dtype=float32)\n",
      "tf.Tensor(0.0005879422, shape=(), dtype=float32)\n",
      "tf.Tensor(0.0005749856, shape=(), dtype=float32)\n",
      "tf.Tensor(0.00052802765, shape=(), dtype=float32)\n",
      "tf.Tensor(0.00055475644, shape=(), dtype=float32)\n",
      "tf.Tensor(0.000513676, shape=(), dtype=float32)\n",
      "tf.Tensor(0.0003731096, shape=(), dtype=float32)\n",
      "tf.Tensor(0.00042755913, shape=(), dtype=float32)\n",
      "tf.Tensor(0.00037808027, shape=(), dtype=float32)\n",
      "tf.Tensor(0.00024567882, shape=(), dtype=float32)\n",
      "tf.Tensor(0.00028334904, shape=(), dtype=float32)\n",
      "tf.Tensor(0.00023933189, shape=(), dtype=float32)\n",
      "tf.Tensor(0.00015430927, shape=(), dtype=float32)\n",
      "tf.Tensor(0.00021834168, shape=(), dtype=float32)\n",
      "tf.Tensor(0.00021150665, shape=(), dtype=float32)\n",
      "tf.Tensor(0.0003688612, shape=(), dtype=float32)\n",
      "tf.Tensor(0.00022017118, shape=(), dtype=float32)\n",
      "tf.Tensor(0.00017832169, shape=(), dtype=float32)\n",
      "tf.Tensor(0.00018722324, shape=(), dtype=float32)\n",
      "tf.Tensor(0.000166508, shape=(), dtype=float32)\n",
      "tf.Tensor(0.00013605524, shape=(), dtype=float32)\n",
      "tf.Tensor(0.00015319494, shape=(), dtype=float32)\n",
      "tf.Tensor(0.00013157802, shape=(), dtype=float32)\n",
      "tf.Tensor(8.33811e-05, shape=(), dtype=float32)\n",
      "tf.Tensor(8.965864e-05, shape=(), dtype=float32)\n",
      "tf.Tensor(7.68152e-05, shape=(), dtype=float32)\n",
      "tf.Tensor(6.310012e-05, shape=(), dtype=float32)\n",
      "tf.Tensor(6.291197e-05, shape=(), dtype=float32)\n",
      "tf.Tensor(4.862764e-05, shape=(), dtype=float32)\n",
      "tf.Tensor(5.5161232e-05, shape=(), dtype=float32)\n",
      "tf.Tensor(4.8966078e-05, shape=(), dtype=float32)\n",
      "tf.Tensor(6.979107e-05, shape=(), dtype=float32)\n",
      "tf.Tensor(4.5994675e-05, shape=(), dtype=float32)\n",
      "tf.Tensor(4.895834e-05, shape=(), dtype=float32)\n",
      "tf.Tensor(0.00011033191, shape=(), dtype=float32)\n",
      "tf.Tensor(6.373681e-05, shape=(), dtype=float32)\n",
      "tf.Tensor(4.346376e-05, shape=(), dtype=float32)\n",
      "tf.Tensor(5.265158e-05, shape=(), dtype=float32)\n",
      "tf.Tensor(4.342191e-05, shape=(), dtype=float32)\n",
      "tf.Tensor(3.749344e-05, shape=(), dtype=float32)\n",
      "tf.Tensor(4.3590953e-05, shape=(), dtype=float32)\n",
      "tf.Tensor(3.5896883e-05, shape=(), dtype=float32)\n",
      "tf.Tensor(3.1260537e-05, shape=(), dtype=float32)\n",
      "tf.Tensor(5.3623196e-05, shape=(), dtype=float32)\n",
      "tf.Tensor(2.9114224e-05, shape=(), dtype=float32)\n",
      "tf.Tensor(3.2219974e-05, shape=(), dtype=float32)\n",
      "tf.Tensor(5.3261527e-05, shape=(), dtype=float32)\n",
      "tf.Tensor(4.558386e-05, shape=(), dtype=float32)\n",
      "tf.Tensor(4.301727e-05, shape=(), dtype=float32)\n",
      "tf.Tensor(3.7325648e-05, shape=(), dtype=float32)\n",
      "tf.Tensor(4.038798e-05, shape=(), dtype=float32)\n",
      "tf.Tensor(3.7491616e-05, shape=(), dtype=float32)\n",
      "tf.Tensor(6.7087516e-05, shape=(), dtype=float32)\n",
      "tf.Tensor(3.7370548e-05, shape=(), dtype=float32)\n",
      "tf.Tensor(3.523597e-05, shape=(), dtype=float32)\n",
      "tf.Tensor(3.694403e-05, shape=(), dtype=float32)\n",
      "tf.Tensor(3.2519245e-05, shape=(), dtype=float32)\n",
      "tf.Tensor(3.0751362e-05, shape=(), dtype=float32)\n",
      "tf.Tensor(4.771621e-05, shape=(), dtype=float32)\n",
      "tf.Tensor(3.4864595e-05, shape=(), dtype=float32)\n",
      "tf.Tensor(2.5199857e-05, shape=(), dtype=float32)\n",
      "tf.Tensor(2.5578418e-05, shape=(), dtype=float32)\n",
      "tf.Tensor(1.992271e-05, shape=(), dtype=float32)\n",
      "tf.Tensor(7.0923095e-05, shape=(), dtype=float32)\n",
      "tf.Tensor(2.084197e-05, shape=(), dtype=float32)\n",
      "tf.Tensor(2.4104322e-05, shape=(), dtype=float32)\n",
      "tf.Tensor(2.6019377e-05, shape=(), dtype=float32)\n",
      "tf.Tensor(2.5112213e-05, shape=(), dtype=float32)\n",
      "tf.Tensor(2.4633506e-05, shape=(), dtype=float32)\n",
      "tf.Tensor(2.2089667e-05, shape=(), dtype=float32)\n",
      "tf.Tensor(2.2411345e-05, shape=(), dtype=float32)\n",
      "tf.Tensor(2.283014e-05, shape=(), dtype=float32)\n",
      "tf.Tensor(2.1623107e-05, shape=(), dtype=float32)\n",
      "tf.Tensor(1.5815249e-05, shape=(), dtype=float32)\n",
      "tf.Tensor(1.6255184e-05, shape=(), dtype=float32)\n",
      "tf.Tensor(2.402618e-05, shape=(), dtype=float32)\n",
      "tf.Tensor(2.0157851e-05, shape=(), dtype=float32)\n",
      "tf.Tensor(2.0700616e-05, shape=(), dtype=float32)\n",
      "tf.Tensor(2.2918184e-05, shape=(), dtype=float32)\n",
      "tf.Tensor(2.0729945e-05, shape=(), dtype=float32)\n",
      "tf.Tensor(2.1651414e-05, shape=(), dtype=float32)\n",
      "tf.Tensor(2.4244036e-05, shape=(), dtype=float32)\n",
      "tf.Tensor(2.1037442e-05, shape=(), dtype=float32)\n",
      "tf.Tensor(2.3922188e-05, shape=(), dtype=float32)\n",
      "tf.Tensor(2.6632903e-05, shape=(), dtype=float32)\n",
      "tf.Tensor(2.6499583e-05, shape=(), dtype=float32)\n",
      "tf.Tensor(2.867531e-05, shape=(), dtype=float32)\n",
      "tf.Tensor(4.4112163e-05, shape=(), dtype=float32)\n",
      "tf.Tensor(2.9460225e-05, shape=(), dtype=float32)\n",
      "tf.Tensor(2.814055e-05, shape=(), dtype=float32)\n",
      "tf.Tensor(2.238394e-05, shape=(), dtype=float32)\n",
      "tf.Tensor(3.0534346e-05, shape=(), dtype=float32)\n",
      "tf.Tensor(3.0496925e-05, shape=(), dtype=float32)\n",
      "tf.Tensor(2.765228e-05, shape=(), dtype=float32)\n",
      "tf.Tensor(2.6064501e-05, shape=(), dtype=float32)\n",
      "tf.Tensor(2.4639e-05, shape=(), dtype=float32)\n",
      "tf.Tensor(2.5026238e-05, shape=(), dtype=float32)\n",
      "tf.Tensor(1.7471593e-05, shape=(), dtype=float32)\n",
      "tf.Tensor(3.707841e-05, shape=(), dtype=float32)\n"
     ]
    },
    {
     "name": "stderr",
     "output_type": "stream",
     "text": [
      "Total Loss: 0.5991:  10%|█         | 1/10 [00:04<00:38,  4.25s/batch]"
     ]
    },
    {
     "name": "stdout",
     "output_type": "stream",
     "text": [
      "tf.Tensor(1.7603857e-05, shape=(), dtype=float32)\n",
      "tf.Tensor(0.0015286038, shape=(), dtype=float32)\n",
      "tf.Tensor(0.0015286038, shape=(), dtype=float32)\n",
      "tf.Tensor(0.00014296472, shape=(), dtype=float32)\n",
      "tf.Tensor(0.0004004806, shape=(), dtype=float32)\n",
      "tf.Tensor(0.00015659441, shape=(), dtype=float32)\n",
      "tf.Tensor(2.7481005e-05, shape=(), dtype=float32)\n",
      "tf.Tensor(0.000121382174, shape=(), dtype=float32)\n",
      "tf.Tensor(6.636785e-05, shape=(), dtype=float32)\n",
      "tf.Tensor(7.248197e-05, shape=(), dtype=float32)\n",
      "tf.Tensor(6.665249e-05, shape=(), dtype=float32)\n",
      "tf.Tensor(5.657303e-05, shape=(), dtype=float32)\n",
      "tf.Tensor(2.74593e-05, shape=(), dtype=float32)\n",
      "tf.Tensor(4.9884846e-05, shape=(), dtype=float32)\n",
      "tf.Tensor(4.071396e-05, shape=(), dtype=float32)\n",
      "tf.Tensor(1.7129345e-05, shape=(), dtype=float32)\n",
      "tf.Tensor(7.8246034e-05, shape=(), dtype=float32)\n",
      "tf.Tensor(1.3246554e-05, shape=(), dtype=float32)\n",
      "tf.Tensor(1.407796e-05, shape=(), dtype=float32)\n",
      "tf.Tensor(1.404131e-05, shape=(), dtype=float32)\n",
      "tf.Tensor(1.3815528e-05, shape=(), dtype=float32)\n",
      "tf.Tensor(1.296104e-05, shape=(), dtype=float32)\n",
      "tf.Tensor(1.3459487e-05, shape=(), dtype=float32)\n",
      "tf.Tensor(1.2471759e-05, shape=(), dtype=float32)\n",
      "tf.Tensor(1.311069e-05, shape=(), dtype=float32)\n",
      "tf.Tensor(2.244169e-05, shape=(), dtype=float32)\n",
      "tf.Tensor(1.4148568e-05, shape=(), dtype=float32)\n",
      "tf.Tensor(1.5869802e-05, shape=(), dtype=float32)\n",
      "tf.Tensor(2.769219e-05, shape=(), dtype=float32)\n",
      "tf.Tensor(2.2479584e-05, shape=(), dtype=float32)\n",
      "tf.Tensor(1.8161787e-05, shape=(), dtype=float32)\n",
      "tf.Tensor(2.3808443e-05, shape=(), dtype=float32)\n",
      "tf.Tensor(1.6194503e-05, shape=(), dtype=float32)\n",
      "tf.Tensor(1.518726e-05, shape=(), dtype=float32)\n",
      "tf.Tensor(2.8758954e-05, shape=(), dtype=float32)\n",
      "tf.Tensor(1.5535144e-05, shape=(), dtype=float32)\n",
      "tf.Tensor(1.6459577e-05, shape=(), dtype=float32)\n",
      "tf.Tensor(0.00010428872, shape=(), dtype=float32)\n",
      "tf.Tensor(1.8678567e-05, shape=(), dtype=float32)\n",
      "tf.Tensor(1.7040813e-05, shape=(), dtype=float32)\n",
      "tf.Tensor(2.9836025e-05, shape=(), dtype=float32)\n",
      "tf.Tensor(1.7781163e-05, shape=(), dtype=float32)\n",
      "tf.Tensor(1.910457e-05, shape=(), dtype=float32)\n",
      "tf.Tensor(3.962522e-05, shape=(), dtype=float32)\n",
      "tf.Tensor(2.6238115e-05, shape=(), dtype=float32)\n",
      "tf.Tensor(2.0725887e-05, shape=(), dtype=float32)\n",
      "tf.Tensor(2.1463675e-05, shape=(), dtype=float32)\n",
      "tf.Tensor(1.730025e-05, shape=(), dtype=float32)\n",
      "tf.Tensor(1.70877e-05, shape=(), dtype=float32)\n",
      "tf.Tensor(2.5028083e-05, shape=(), dtype=float32)\n",
      "tf.Tensor(1.878456e-05, shape=(), dtype=float32)\n",
      "tf.Tensor(1.7678953e-05, shape=(), dtype=float32)\n",
      "tf.Tensor(2.1609945e-05, shape=(), dtype=float32)\n",
      "tf.Tensor(1.772215e-05, shape=(), dtype=float32)\n",
      "tf.Tensor(1.5967917e-05, shape=(), dtype=float32)\n",
      "tf.Tensor(1.3757886e-05, shape=(), dtype=float32)\n",
      "tf.Tensor(1.3916457e-05, shape=(), dtype=float32)\n",
      "tf.Tensor(1.4106873e-05, shape=(), dtype=float32)\n",
      "tf.Tensor(2.6232481e-05, shape=(), dtype=float32)\n",
      "tf.Tensor(1.5052936e-05, shape=(), dtype=float32)\n",
      "tf.Tensor(1.2796581e-05, shape=(), dtype=float32)\n",
      "tf.Tensor(1.2819755e-05, shape=(), dtype=float32)\n",
      "tf.Tensor(1.2054189e-05, shape=(), dtype=float32)\n",
      "tf.Tensor(1.0356884e-05, shape=(), dtype=float32)\n",
      "tf.Tensor(1.1008289e-05, shape=(), dtype=float32)\n",
      "tf.Tensor(9.8162545e-06, shape=(), dtype=float32)\n",
      "tf.Tensor(1.6611379e-05, shape=(), dtype=float32)\n",
      "tf.Tensor(9.774784e-06, shape=(), dtype=float32)\n",
      "tf.Tensor(8.7217395e-06, shape=(), dtype=float32)\n",
      "tf.Tensor(7.3988126e-06, shape=(), dtype=float32)\n",
      "tf.Tensor(8.448277e-06, shape=(), dtype=float32)\n",
      "tf.Tensor(7.264153e-06, shape=(), dtype=float32)\n",
      "tf.Tensor(8.041541e-06, shape=(), dtype=float32)\n",
      "tf.Tensor(7.1961185e-06, shape=(), dtype=float32)\n",
      "tf.Tensor(6.4541236e-06, shape=(), dtype=float32)\n",
      "tf.Tensor(1.5354153e-05, shape=(), dtype=float32)\n",
      "tf.Tensor(8.971905e-06, shape=(), dtype=float32)\n",
      "tf.Tensor(6.2278696e-06, shape=(), dtype=float32)\n",
      "tf.Tensor(1.0043088e-05, shape=(), dtype=float32)\n",
      "tf.Tensor(7.462545e-06, shape=(), dtype=float32)\n",
      "tf.Tensor(7.2599887e-06, shape=(), dtype=float32)\n",
      "tf.Tensor(7.2672465e-06, shape=(), dtype=float32)\n",
      "tf.Tensor(7.3997635e-06, shape=(), dtype=float32)\n",
      "tf.Tensor(1.8981496e-05, shape=(), dtype=float32)\n",
      "tf.Tensor(9.078909e-06, shape=(), dtype=float32)\n",
      "tf.Tensor(8.173554e-06, shape=(), dtype=float32)\n",
      "tf.Tensor(8.043983e-06, shape=(), dtype=float32)\n",
      "tf.Tensor(8.795373e-06, shape=(), dtype=float32)\n",
      "tf.Tensor(7.3692645e-06, shape=(), dtype=float32)\n",
      "tf.Tensor(6.4082014e-06, shape=(), dtype=float32)\n",
      "tf.Tensor(5.47492e-06, shape=(), dtype=float32)\n",
      "tf.Tensor(4.9106875e-06, shape=(), dtype=float32)\n",
      "tf.Tensor(7.619404e-06, shape=(), dtype=float32)\n",
      "tf.Tensor(6.7305264e-06, shape=(), dtype=float32)\n",
      "tf.Tensor(6.4108053e-06, shape=(), dtype=float32)\n",
      "tf.Tensor(2.0815743e-05, shape=(), dtype=float32)\n",
      "tf.Tensor(6.7050382e-06, shape=(), dtype=float32)\n",
      "tf.Tensor(7.995986e-06, shape=(), dtype=float32)\n",
      "tf.Tensor(1.559542e-05, shape=(), dtype=float32)\n",
      "tf.Tensor(1.0740222e-05, shape=(), dtype=float32)\n",
      "tf.Tensor(8.435109e-06, shape=(), dtype=float32)\n",
      "tf.Tensor(6.888469e-06, shape=(), dtype=float32)\n",
      "tf.Tensor(7.67838e-06, shape=(), dtype=float32)\n",
      "tf.Tensor(6.2130484e-06, shape=(), dtype=float32)\n",
      "tf.Tensor(9.8043165e-06, shape=(), dtype=float32)\n",
      "tf.Tensor(6.2124504e-06, shape=(), dtype=float32)\n",
      "tf.Tensor(6.110056e-06, shape=(), dtype=float32)\n",
      "tf.Tensor(7.2121907e-06, shape=(), dtype=float32)\n",
      "tf.Tensor(6.5520076e-06, shape=(), dtype=float32)\n",
      "tf.Tensor(6.7408832e-06, shape=(), dtype=float32)\n",
      "tf.Tensor(7.784383e-06, shape=(), dtype=float32)\n",
      "tf.Tensor(7.1610216e-06, shape=(), dtype=float32)\n",
      "tf.Tensor(7.385882e-06, shape=(), dtype=float32)\n",
      "tf.Tensor(1.0356614e-05, shape=(), dtype=float32)\n",
      "tf.Tensor(7.666629e-06, shape=(), dtype=float32)\n",
      "tf.Tensor(7.660601e-06, shape=(), dtype=float32)\n",
      "tf.Tensor(1.0044863e-05, shape=(), dtype=float32)\n",
      "tf.Tensor(7.830152e-06, shape=(), dtype=float32)\n",
      "tf.Tensor(7.700943e-06, shape=(), dtype=float32)\n",
      "tf.Tensor(7.2106686e-06, shape=(), dtype=float32)\n",
      "tf.Tensor(7.3556484e-06, shape=(), dtype=float32)\n",
      "tf.Tensor(7.198054e-06, shape=(), dtype=float32)\n",
      "tf.Tensor(6.658118e-06, shape=(), dtype=float32)\n",
      "tf.Tensor(7.078701e-06, shape=(), dtype=float32)\n",
      "tf.Tensor(6.923643e-06, shape=(), dtype=float32)\n",
      "tf.Tensor(7.0675005e-06, shape=(), dtype=float32)\n",
      "tf.Tensor(6.9199014e-06, shape=(), dtype=float32)\n",
      "tf.Tensor(6.180244e-06, shape=(), dtype=float32)\n",
      "tf.Tensor(4.5663974e-06, shape=(), dtype=float32)\n",
      "tf.Tensor(6.0822117e-06, shape=(), dtype=float32)\n",
      "tf.Tensor(5.686433e-06, shape=(), dtype=float32)\n",
      "tf.Tensor(4.42695e-06, shape=(), dtype=float32)\n",
      "tf.Tensor(4.974532e-06, shape=(), dtype=float32)\n",
      "tf.Tensor(4.7777908e-06, shape=(), dtype=float32)\n",
      "tf.Tensor(4.905702e-06, shape=(), dtype=float32)\n",
      "tf.Tensor(4.8831207e-06, shape=(), dtype=float32)\n",
      "tf.Tensor(4.2955e-06, shape=(), dtype=float32)\n",
      "tf.Tensor(3.6561457e-06, shape=(), dtype=float32)\n",
      "tf.Tensor(4.104942e-06, shape=(), dtype=float32)\n",
      "tf.Tensor(3.5496487e-06, shape=(), dtype=float32)\n",
      "tf.Tensor(5.3983313e-06, shape=(), dtype=float32)\n"
     ]
    },
    {
     "name": "stderr",
     "output_type": "stream",
     "text": [
      "Total Loss: 0.0024:  20%|██        | 2/10 [00:07<00:29,  3.66s/batch]"
     ]
    },
    {
     "name": "stdout",
     "output_type": "stream",
     "text": [
      "tf.Tensor(4.40288e-06, shape=(), dtype=float32)\n",
      "tf.Tensor(3.4067168e-06, shape=(), dtype=float32)\n",
      "tf.Tensor(3.5799426e-06, shape=(), dtype=float32)\n",
      "tf.Tensor(3.4931518e-06, shape=(), dtype=float32)\n",
      "tf.Tensor(3.4375055e-06, shape=(), dtype=float32)\n",
      "tf.Tensor(0.00018283245, shape=(), dtype=float32)\n",
      "tf.Tensor(0.00018283245, shape=(), dtype=float32)\n",
      "tf.Tensor(2.8432907e-05, shape=(), dtype=float32)\n",
      "tf.Tensor(5.3761716e-05, shape=(), dtype=float32)\n",
      "tf.Tensor(3.621586e-05, shape=(), dtype=float32)\n",
      "tf.Tensor(4.3752007e-05, shape=(), dtype=float32)\n",
      "tf.Tensor(4.130131e-05, shape=(), dtype=float32)\n",
      "tf.Tensor(3.258827e-05, shape=(), dtype=float32)\n",
      "tf.Tensor(3.907996e-05, shape=(), dtype=float32)\n",
      "tf.Tensor(3.623152e-05, shape=(), dtype=float32)\n",
      "tf.Tensor(2.8319075e-05, shape=(), dtype=float32)\n",
      "tf.Tensor(3.4739507e-05, shape=(), dtype=float32)\n",
      "tf.Tensor(3.3290817e-05, shape=(), dtype=float32)\n",
      "tf.Tensor(2.8943334e-05, shape=(), dtype=float32)\n",
      "tf.Tensor(2.9279287e-05, shape=(), dtype=float32)\n",
      "tf.Tensor(2.5848072e-05, shape=(), dtype=float32)\n",
      "tf.Tensor(1.6649094e-05, shape=(), dtype=float32)\n",
      "tf.Tensor(1.7157441e-05, shape=(), dtype=float32)\n",
      "tf.Tensor(1.699462e-05, shape=(), dtype=float32)\n",
      "tf.Tensor(2.2651817e-05, shape=(), dtype=float32)\n",
      "tf.Tensor(1.805312e-05, shape=(), dtype=float32)\n",
      "tf.Tensor(1.6966593e-05, shape=(), dtype=float32)\n",
      "tf.Tensor(1.5486376e-05, shape=(), dtype=float32)\n",
      "tf.Tensor(1.6617247e-05, shape=(), dtype=float32)\n",
      "tf.Tensor(1.3588168e-05, shape=(), dtype=float32)\n",
      "tf.Tensor(8.710071e-06, shape=(), dtype=float32)\n",
      "tf.Tensor(8.6902655e-06, shape=(), dtype=float32)\n",
      "tf.Tensor(8.5710935e-06, shape=(), dtype=float32)\n",
      "tf.Tensor(1.4123109e-05, shape=(), dtype=float32)\n",
      "tf.Tensor(1.0706537e-05, shape=(), dtype=float32)\n",
      "tf.Tensor(9.476049e-06, shape=(), dtype=float32)\n",
      "tf.Tensor(8.995263e-06, shape=(), dtype=float32)\n",
      "tf.Tensor(8.29567e-06, shape=(), dtype=float32)\n",
      "tf.Tensor(8.67195e-06, shape=(), dtype=float32)\n",
      "tf.Tensor(8.352642e-06, shape=(), dtype=float32)\n",
      "tf.Tensor(8.435803e-06, shape=(), dtype=float32)\n",
      "tf.Tensor(1.6121669e-05, shape=(), dtype=float32)\n",
      "tf.Tensor(8.452751e-06, shape=(), dtype=float32)\n",
      "tf.Tensor(1.10464325e-05, shape=(), dtype=float32)\n",
      "tf.Tensor(9.406755e-06, shape=(), dtype=float32)\n",
      "tf.Tensor(8.641773e-06, shape=(), dtype=float32)\n",
      "tf.Tensor(8.6099835e-06, shape=(), dtype=float32)\n",
      "tf.Tensor(8.427339e-06, shape=(), dtype=float32)\n",
      "tf.Tensor(8.309641e-06, shape=(), dtype=float32)\n",
      "tf.Tensor(8.455852e-06, shape=(), dtype=float32)\n",
      "tf.Tensor(8.268496e-06, shape=(), dtype=float32)\n",
      "tf.Tensor(8.4132525e-06, shape=(), dtype=float32)\n",
      "tf.Tensor(8.137652e-06, shape=(), dtype=float32)\n",
      "tf.Tensor(8.147164e-06, shape=(), dtype=float32)\n",
      "tf.Tensor(8.300267e-06, shape=(), dtype=float32)\n"
     ]
    },
    {
     "name": "stderr",
     "output_type": "stream",
     "text": [
      "Total Loss: 0.0024:  20%|██        | 2/10 [00:08<00:35,  4.38s/batch]"
     ]
    },
    {
     "name": "stdout",
     "output_type": "stream",
     "text": [
      "tf.Tensor(8.164714e-06, shape=(), dtype=float32)\n",
      "tf.Tensor(8.099005e-06, shape=(), dtype=float32)\n",
      "tf.Tensor(7.950401e-06, shape=(), dtype=float32)\n",
      "tf.Tensor(8.029744e-06, shape=(), dtype=float32)\n",
      "tf.Tensor(7.93035e-06, shape=(), dtype=float32)\n"
     ]
    },
    {
     "name": "stderr",
     "output_type": "stream",
     "text": [
      "\n"
     ]
    },
    {
     "ename": "KeyboardInterrupt",
     "evalue": "",
     "output_type": "error",
     "traceback": [
      "\u001b[1;31m---------------------------------------------------------------------------\u001b[0m",
      "\u001b[1;31mKeyboardInterrupt\u001b[0m                         Traceback (most recent call last)",
      "\u001b[1;32m~\\AppData\\Local\\Temp\\ipykernel_5676\\59813197.py\u001b[0m in \u001b[0;36m?\u001b[1;34m()\u001b[0m\n\u001b[0;32m      2\u001b[0m \u001b[0mgamma\u001b[0m \u001b[1;33m=\u001b[0m \u001b[1;36m10e-3\u001b[0m\u001b[1;33m\u001b[0m\u001b[1;33m\u001b[0m\u001b[0m\n\u001b[0;32m      3\u001b[0m \u001b[0mbeta2\u001b[0m \u001b[1;33m=\u001b[0m \u001b[1;36m100e3\u001b[0m\u001b[1;33m*\u001b[0m\u001b[1;33m(\u001b[0m\u001b[1;36m1e-30\u001b[0m\u001b[1;33m)\u001b[0m\u001b[1;33m\u001b[0m\u001b[1;33m\u001b[0m\u001b[0m\n\u001b[0;32m      4\u001b[0m \u001b[0mregularizer_param\u001b[0m \u001b[1;33m=\u001b[0m \u001b[1;36m1\u001b[0m\u001b[1;33m\u001b[0m\u001b[1;33m\u001b[0m\u001b[0m\n\u001b[0;32m      5\u001b[0m \u001b[0moptimizer\u001b[0m \u001b[1;33m=\u001b[0m \u001b[0mpinnOptimizer\u001b[0m\u001b[1;33m(\u001b[0m\u001b[0mmodel\u001b[0m\u001b[1;33m,\u001b[0m \u001b[0mbatched_data\u001b[0m\u001b[1;33m,\u001b[0m \u001b[0malpha\u001b[0m\u001b[1;33m,\u001b[0m \u001b[0mgamma\u001b[0m\u001b[1;33m,\u001b[0m \u001b[0mbeta2\u001b[0m\u001b[1;33m)\u001b[0m\u001b[1;33m\u001b[0m\u001b[1;33m\u001b[0m\u001b[0m\n\u001b[1;32m----> 6\u001b[1;33m \u001b[0moptimizer\u001b[0m\u001b[1;33m.\u001b[0m\u001b[0mfit\u001b[0m\u001b[1;33m(\u001b[0m\u001b[1;36m1\u001b[0m\u001b[1;33m)\u001b[0m\u001b[1;33m\u001b[0m\u001b[1;33m\u001b[0m\u001b[0m\n\u001b[0m",
      "\u001b[1;32mc:\\Users\\Zero\\Documents\\skripsiDiko\\Skripsi-PINN\\optimizer.py\u001b[0m in \u001b[0;36m?\u001b[1;34m(self, epochs)\u001b[0m\n\u001b[0;32m    156\u001b[0m             \u001b[1;32mfor\u001b[0m \u001b[0m_\u001b[0m \u001b[1;32min\u001b[0m \u001b[0mprogress_bar\u001b[0m\u001b[1;33m:\u001b[0m\u001b[1;33m\u001b[0m\u001b[1;33m\u001b[0m\u001b[0m\n\u001b[0;32m    157\u001b[0m                 \u001b[0mcollocation_batch\u001b[0m \u001b[1;33m=\u001b[0m \u001b[0mnext\u001b[0m\u001b[1;33m(\u001b[0m\u001b[0mcollocation_iterator\u001b[0m\u001b[1;33m)\u001b[0m\u001b[1;33m\u001b[0m\u001b[1;33m\u001b[0m\u001b[0m\n\u001b[0;32m    158\u001b[0m                 \u001b[0mlabelled_batch\u001b[0m \u001b[1;33m=\u001b[0m \u001b[0mnext\u001b[0m\u001b[1;33m(\u001b[0m\u001b[0mlabelled_iterator\u001b[0m\u001b[1;33m)\u001b[0m\u001b[1;33m\u001b[0m\u001b[1;33m\u001b[0m\u001b[0m\n\u001b[0;32m    159\u001b[0m \u001b[1;33m\u001b[0m\u001b[0m\n\u001b[1;32m--> 160\u001b[1;33m                 \u001b[0mbatch_residue_loss\u001b[0m\u001b[1;33m,\u001b[0m \u001b[0mbatch_labelled_loss\u001b[0m \u001b[1;33m=\u001b[0m \u001b[0mself\u001b[0m\u001b[1;33m.\u001b[0m\u001b[0moptimize_single_batch\u001b[0m\u001b[1;33m(\u001b[0m\u001b[0mcollocation_batch\u001b[0m\u001b[1;33m,\u001b[0m \u001b[0mlabelled_batch\u001b[0m\u001b[1;33m)\u001b[0m\u001b[1;33m\u001b[0m\u001b[1;33m\u001b[0m\u001b[0m\n\u001b[0m\u001b[0;32m    161\u001b[0m                 \u001b[0mprogress_bar\u001b[0m\u001b[1;33m.\u001b[0m\u001b[0mset_description\u001b[0m\u001b[1;33m(\u001b[0m\u001b[1;34mf\"Total Loss: {batch_residue_loss+batch_labelled_loss:.4f}\"\u001b[0m\u001b[1;33m)\u001b[0m\u001b[1;33m\u001b[0m\u001b[1;33m\u001b[0m\u001b[0m\n\u001b[0;32m    162\u001b[0m \u001b[1;33m\u001b[0m\u001b[0m\n\u001b[0;32m    163\u001b[0m                 \u001b[0mepoch_residue_loss\u001b[0m \u001b[1;33m+=\u001b[0m \u001b[0mbatch_residue_loss\u001b[0m\u001b[1;33m\u001b[0m\u001b[1;33m\u001b[0m\u001b[0m\n",
      "\u001b[1;32mc:\\Users\\Zero\\Documents\\skripsiDiko\\Skripsi-PINN\\optimizer.py\u001b[0m in \u001b[0;36m?\u001b[1;34m(self, collocation_batch, labelled_batch)\u001b[0m\n\u001b[0;32m    129\u001b[0m \u001b[1;33m\u001b[0m\u001b[0m\n\u001b[0;32m    130\u001b[0m             \u001b[1;32mreturn\u001b[0m \u001b[0mtotal_loss\u001b[0m\u001b[1;33m,\u001b[0m \u001b[0mgradients\u001b[0m\u001b[1;33m\u001b[0m\u001b[1;33m\u001b[0m\u001b[0m\n\u001b[0;32m    131\u001b[0m \u001b[1;33m\u001b[0m\u001b[0m\n\u001b[0;32m    132\u001b[0m \u001b[1;33m\u001b[0m\u001b[0m\n\u001b[1;32m--> 133\u001b[1;33m         results = self.optimizer(\n\u001b[0m\u001b[0;32m    134\u001b[0m             \u001b[0mvalue_and_gradients_function\u001b[0m \u001b[1;33m=\u001b[0m \u001b[0mvalue_and_gradients_function\u001b[0m\u001b[1;33m,\u001b[0m\u001b[1;33m\u001b[0m\u001b[1;33m\u001b[0m\u001b[0m\n\u001b[0;32m    135\u001b[0m             \u001b[0minitial_position\u001b[0m \u001b[1;33m=\u001b[0m \u001b[0minitial_position\u001b[0m\u001b[1;33m,\u001b[0m\u001b[1;33m\u001b[0m\u001b[1;33m\u001b[0m\u001b[0m\n\u001b[0;32m    136\u001b[0m         )\n",
      "\u001b[1;32mc:\\Users\\Zero\\Documents\\skripsiDiko\\Skripsi-PINN\\.venv\\Lib\\site-packages\\tensorflow_probability\\python\\optimizer\\lbfgs.py\u001b[0m in \u001b[0;36m?\u001b[1;34m(value_and_gradients_function, initial_position, previous_optimizer_results, num_correction_pairs, tolerance, x_tolerance, f_relative_tolerance, initial_inverse_hessian_estimate, max_iterations, parallel_iterations, stopping_condition, max_line_search_iterations, f_absolute_tolerance, name)\u001b[0m\n\u001b[0;32m    281\u001b[0m                                          tolerance)\n\u001b[0;32m    282\u001b[0m     \u001b[1;32melse\u001b[0m\u001b[1;33m:\u001b[0m\u001b[1;33m\u001b[0m\u001b[1;33m\u001b[0m\u001b[0m\n\u001b[0;32m    283\u001b[0m       \u001b[0minitial_state\u001b[0m \u001b[1;33m=\u001b[0m \u001b[0mprevious_optimizer_results\u001b[0m\u001b[1;33m\u001b[0m\u001b[1;33m\u001b[0m\u001b[0m\n\u001b[0;32m    284\u001b[0m \u001b[1;33m\u001b[0m\u001b[0m\n\u001b[1;32m--> 285\u001b[1;33m     return tf.while_loop(\n\u001b[0m\u001b[0;32m    286\u001b[0m         \u001b[0mcond\u001b[0m\u001b[1;33m=\u001b[0m\u001b[0m_cond\u001b[0m\u001b[1;33m,\u001b[0m\u001b[1;33m\u001b[0m\u001b[1;33m\u001b[0m\u001b[0m\n\u001b[0;32m    287\u001b[0m         \u001b[0mbody\u001b[0m\u001b[1;33m=\u001b[0m\u001b[0m_body\u001b[0m\u001b[1;33m,\u001b[0m\u001b[1;33m\u001b[0m\u001b[1;33m\u001b[0m\u001b[0m\n\u001b[0;32m    288\u001b[0m         \u001b[0mloop_vars\u001b[0m\u001b[1;33m=\u001b[0m\u001b[1;33m[\u001b[0m\u001b[0minitial_state\u001b[0m\u001b[1;33m]\u001b[0m\u001b[1;33m,\u001b[0m\u001b[1;33m\u001b[0m\u001b[1;33m\u001b[0m\u001b[0m\n",
      "\u001b[1;32mc:\\Users\\Zero\\Documents\\skripsiDiko\\Skripsi-PINN\\.venv\\Lib\\site-packages\\tensorflow\\python\\util\\deprecation.py\u001b[0m in \u001b[0;36m?\u001b[1;34m(*args, **kwargs)\u001b[0m\n\u001b[0;32m    644\u001b[0m                   \u001b[0m_call_location\u001b[0m\u001b[1;33m(\u001b[0m\u001b[1;33m)\u001b[0m\u001b[1;33m,\u001b[0m \u001b[0mdecorator_utils\u001b[0m\u001b[1;33m.\u001b[0m\u001b[0mget_qualified_name\u001b[0m\u001b[1;33m(\u001b[0m\u001b[0mfunc\u001b[0m\u001b[1;33m)\u001b[0m\u001b[1;33m,\u001b[0m\u001b[1;33m\u001b[0m\u001b[1;33m\u001b[0m\u001b[0m\n\u001b[0;32m    645\u001b[0m                   \u001b[0mfunc\u001b[0m\u001b[1;33m.\u001b[0m\u001b[0m__module__\u001b[0m\u001b[1;33m,\u001b[0m \u001b[0marg_name\u001b[0m\u001b[1;33m,\u001b[0m \u001b[0marg_value\u001b[0m\u001b[1;33m,\u001b[0m\u001b[1;33m\u001b[0m\u001b[1;33m\u001b[0m\u001b[0m\n\u001b[0;32m    646\u001b[0m                   \u001b[1;34m'in a future version'\u001b[0m \u001b[1;32mif\u001b[0m \u001b[0mdate\u001b[0m \u001b[1;32mis\u001b[0m \u001b[1;32mNone\u001b[0m \u001b[1;32melse\u001b[0m\u001b[1;33m\u001b[0m\u001b[1;33m\u001b[0m\u001b[0m\n\u001b[0;32m    647\u001b[0m                   ('after %s' % date), instructions)\n\u001b[1;32m--> 648\u001b[1;33m       \u001b[1;32mreturn\u001b[0m \u001b[0mfunc\u001b[0m\u001b[1;33m(\u001b[0m\u001b[1;33m*\u001b[0m\u001b[0margs\u001b[0m\u001b[1;33m,\u001b[0m \u001b[1;33m**\u001b[0m\u001b[0mkwargs\u001b[0m\u001b[1;33m)\u001b[0m\u001b[1;33m\u001b[0m\u001b[1;33m\u001b[0m\u001b[0m\n\u001b[0m",
      "\u001b[1;32mc:\\Users\\Zero\\Documents\\skripsiDiko\\Skripsi-PINN\\.venv\\Lib\\site-packages\\tensorflow\\python\\ops\\control_flow_ops.py\u001b[0m in \u001b[0;36m?\u001b[1;34m(cond, body, loop_vars, shape_invariants, parallel_iterations, back_prop, swap_memory, maximum_iterations, name)\u001b[0m\n\u001b[0;32m   2570\u001b[0m   \u001b[1;33m...\u001b[0m   \u001b[0mprint\u001b[0m\u001b[1;33m(\u001b[0m\u001b[0msess\u001b[0m\u001b[1;33m.\u001b[0m\u001b[0mrun\u001b[0m\u001b[1;33m(\u001b[0m\u001b[0mx_out\u001b[0m\u001b[1;33m)\u001b[0m\u001b[1;33m.\u001b[0m\u001b[0mshape\u001b[0m\u001b[1;33m)\u001b[0m\u001b[1;33m\u001b[0m\u001b[1;33m\u001b[0m\u001b[0m\n\u001b[0;32m   2571\u001b[0m   \u001b[1;33m(\u001b[0m\u001b[1;36m1000\u001b[0m\u001b[1;33m,\u001b[0m \u001b[1;36m100\u001b[0m\u001b[1;33m)\u001b[0m\u001b[1;33m\u001b[0m\u001b[1;33m\u001b[0m\u001b[0m\n\u001b[0;32m   2572\u001b[0m \u001b[1;33m\u001b[0m\u001b[0m\n\u001b[0;32m   2573\u001b[0m   \"\"\"\n\u001b[1;32m-> 2574\u001b[1;33m   return while_loop(\n\u001b[0m\u001b[0;32m   2575\u001b[0m       \u001b[0mcond\u001b[0m\u001b[1;33m=\u001b[0m\u001b[0mcond\u001b[0m\u001b[1;33m,\u001b[0m\u001b[1;33m\u001b[0m\u001b[1;33m\u001b[0m\u001b[0m\n\u001b[0;32m   2576\u001b[0m       \u001b[0mbody\u001b[0m\u001b[1;33m=\u001b[0m\u001b[0mbody\u001b[0m\u001b[1;33m,\u001b[0m\u001b[1;33m\u001b[0m\u001b[1;33m\u001b[0m\u001b[0m\n\u001b[0;32m   2577\u001b[0m       \u001b[0mloop_vars\u001b[0m\u001b[1;33m=\u001b[0m\u001b[0mloop_vars\u001b[0m\u001b[1;33m,\u001b[0m\u001b[1;33m\u001b[0m\u001b[1;33m\u001b[0m\u001b[0m\n",
      "\u001b[1;32mc:\\Users\\Zero\\Documents\\skripsiDiko\\Skripsi-PINN\\.venv\\Lib\\site-packages\\tensorflow\\python\\ops\\control_flow_ops.py\u001b[0m in \u001b[0;36m?\u001b[1;34m(cond, body, loop_vars, shape_invariants, parallel_iterations, back_prop, swap_memory, name, maximum_iterations, return_same_structure)\u001b[0m\n\u001b[0;32m   2819\u001b[0m \u001b[1;33m\u001b[0m\u001b[0m\n\u001b[0;32m   2820\u001b[0m       loop_var_structure = nest.map_structure(type_spec.type_spec_from_value,\n\u001b[0;32m   2821\u001b[0m                                               list(loop_vars))\n\u001b[0;32m   2822\u001b[0m       \u001b[1;32mwhile\u001b[0m \u001b[0mcond\u001b[0m\u001b[1;33m(\u001b[0m\u001b[1;33m*\u001b[0m\u001b[0mloop_vars\u001b[0m\u001b[1;33m)\u001b[0m\u001b[1;33m:\u001b[0m\u001b[1;33m\u001b[0m\u001b[1;33m\u001b[0m\u001b[0m\n\u001b[1;32m-> 2823\u001b[1;33m         \u001b[0mloop_vars\u001b[0m \u001b[1;33m=\u001b[0m \u001b[0mbody\u001b[0m\u001b[1;33m(\u001b[0m\u001b[1;33m*\u001b[0m\u001b[0mloop_vars\u001b[0m\u001b[1;33m)\u001b[0m\u001b[1;33m\u001b[0m\u001b[1;33m\u001b[0m\u001b[0m\n\u001b[0m\u001b[0;32m   2824\u001b[0m         \u001b[1;32mif\u001b[0m \u001b[0mtry_to_pack\u001b[0m \u001b[1;32mand\u001b[0m \u001b[1;32mnot\u001b[0m \u001b[0misinstance\u001b[0m\u001b[1;33m(\u001b[0m\u001b[0mloop_vars\u001b[0m\u001b[1;33m,\u001b[0m \u001b[1;33m(\u001b[0m\u001b[0mlist\u001b[0m\u001b[1;33m,\u001b[0m \u001b[0m_basetuple\u001b[0m\u001b[1;33m)\u001b[0m\u001b[1;33m)\u001b[0m\u001b[1;33m:\u001b[0m\u001b[1;33m\u001b[0m\u001b[1;33m\u001b[0m\u001b[0m\n\u001b[0;32m   2825\u001b[0m           \u001b[0mpacked\u001b[0m \u001b[1;33m=\u001b[0m \u001b[1;32mTrue\u001b[0m\u001b[1;33m\u001b[0m\u001b[1;33m\u001b[0m\u001b[0m\n\u001b[0;32m   2826\u001b[0m           \u001b[0mloop_vars\u001b[0m \u001b[1;33m=\u001b[0m \u001b[1;33m(\u001b[0m\u001b[0mloop_vars\u001b[0m\u001b[1;33m,\u001b[0m\u001b[1;33m)\u001b[0m\u001b[1;33m\u001b[0m\u001b[1;33m\u001b[0m\u001b[0m\n",
      "\u001b[1;32mc:\\Users\\Zero\\Documents\\skripsiDiko\\Skripsi-PINN\\.venv\\Lib\\site-packages\\tensorflow_probability\\python\\optimizer\\lbfgs.py\u001b[0m in \u001b[0;36m?\u001b[1;34m(current_state)\u001b[0m\n\u001b[0;32m    255\u001b[0m       \u001b[1;31m# TODO(b/120134934): Check if the derivative at the start point is not\u001b[0m\u001b[1;33m\u001b[0m\u001b[1;33m\u001b[0m\u001b[0m\n\u001b[0;32m    256\u001b[0m       \u001b[1;31m# negative, if so then reset position/gradient deltas and recompute\u001b[0m\u001b[1;33m\u001b[0m\u001b[1;33m\u001b[0m\u001b[0m\n\u001b[0;32m    257\u001b[0m       \u001b[1;31m# search direction.\u001b[0m\u001b[1;33m\u001b[0m\u001b[1;33m\u001b[0m\u001b[0m\n\u001b[0;32m    258\u001b[0m \u001b[1;33m\u001b[0m\u001b[0m\n\u001b[1;32m--> 259\u001b[1;33m       next_state = bfgs_utils.line_search_step(\n\u001b[0m\u001b[0;32m    260\u001b[0m           \u001b[0mcurrent_state\u001b[0m\u001b[1;33m,\u001b[0m \u001b[0mvalue_and_gradients_function\u001b[0m\u001b[1;33m,\u001b[0m \u001b[0msearch_direction\u001b[0m\u001b[1;33m,\u001b[0m\u001b[1;33m\u001b[0m\u001b[1;33m\u001b[0m\u001b[0m\n\u001b[0;32m    261\u001b[0m           \u001b[0mtolerance\u001b[0m\u001b[1;33m,\u001b[0m \u001b[0mf_relative_tolerance\u001b[0m\u001b[1;33m,\u001b[0m \u001b[0mx_tolerance\u001b[0m\u001b[1;33m,\u001b[0m \u001b[0mstopping_condition\u001b[0m\u001b[1;33m,\u001b[0m\u001b[1;33m\u001b[0m\u001b[1;33m\u001b[0m\u001b[0m\n\u001b[0;32m    262\u001b[0m           max_line_search_iterations, f_absolute_tolerance)\n",
      "\u001b[1;32mc:\\Users\\Zero\\Documents\\skripsiDiko\\Skripsi-PINN\\.venv\\Lib\\site-packages\\tensorflow_probability\\python\\optimizer\\bfgs_utils.py\u001b[0m in \u001b[0;36m?\u001b[1;34m(state, value_and_gradients_function, search_direction, grad_tolerance, f_relative_tolerance, x_tolerance, stopping_condition, max_iterations, f_absolute_tolerance)\u001b[0m\n\u001b[0;32m    205\u001b[0m                            \u001b[0mf\u001b[0m\u001b[1;33m=\u001b[0m\u001b[0mstate\u001b[0m\u001b[1;33m.\u001b[0m\u001b[0mobjective_value\u001b[0m\u001b[1;33m,\u001b[0m\u001b[1;33m\u001b[0m\u001b[1;33m\u001b[0m\u001b[0m\n\u001b[0;32m    206\u001b[0m                            \u001b[0mdf\u001b[0m\u001b[1;33m=\u001b[0m\u001b[0mderivative_at_start_pt\u001b[0m\u001b[1;33m,\u001b[0m\u001b[1;33m\u001b[0m\u001b[1;33m\u001b[0m\u001b[0m\n\u001b[0;32m    207\u001b[0m                            full_gradient=state.objective_gradient)\n\u001b[0;32m    208\u001b[0m   \u001b[0minactive\u001b[0m \u001b[1;33m=\u001b[0m \u001b[0mstate\u001b[0m\u001b[1;33m.\u001b[0m\u001b[0mfailed\u001b[0m \u001b[1;33m|\u001b[0m \u001b[0mstate\u001b[0m\u001b[1;33m.\u001b[0m\u001b[0mconverged\u001b[0m\u001b[1;33m\u001b[0m\u001b[1;33m\u001b[0m\u001b[0m\n\u001b[1;32m--> 209\u001b[1;33m   ls_result = hager_zhang(\n\u001b[0m\u001b[0;32m    210\u001b[0m       \u001b[0mline_search_value_grad_func\u001b[0m\u001b[1;33m,\u001b[0m\u001b[1;33m\u001b[0m\u001b[1;33m\u001b[0m\u001b[0m\n\u001b[0;32m    211\u001b[0m       \u001b[0minitial_step_size\u001b[0m\u001b[1;33m=\u001b[0m\u001b[0m_broadcast\u001b[0m\u001b[1;33m(\u001b[0m\u001b[1;36m1\u001b[0m\u001b[1;33m,\u001b[0m \u001b[0mstate\u001b[0m\u001b[1;33m.\u001b[0m\u001b[0mposition\u001b[0m\u001b[1;33m)\u001b[0m\u001b[1;33m,\u001b[0m\u001b[1;33m\u001b[0m\u001b[1;33m\u001b[0m\u001b[0m\n\u001b[0;32m    212\u001b[0m       \u001b[0mvalue_at_zero\u001b[0m\u001b[1;33m=\u001b[0m\u001b[0mval_0\u001b[0m\u001b[1;33m,\u001b[0m\u001b[1;33m\u001b[0m\u001b[1;33m\u001b[0m\u001b[0m\n",
      "\u001b[1;32mc:\\Users\\Zero\\Documents\\skripsiDiko\\Skripsi-PINN\\.venv\\Lib\\site-packages\\tensorflow_probability\\python\\optimizer\\linesearch\\hager_zhang.py\u001b[0m in \u001b[0;36m?\u001b[1;34m(value_and_gradients_function, initial_step_size, value_at_initial_step, value_at_zero, converged, threshold_use_approximate_wolfe_condition, shrinkage_param, expansion_param, sufficient_decrease_param, curvature_param, max_iterations, name)\u001b[0m\n\u001b[0;32m    237\u001b[0m         \u001b[0mequal\u001b[0m \u001b[0mto\u001b[0m \u001b[0mthose\u001b[0m \u001b[0mof\u001b[0m\u001b[0;31m \u001b[0m\u001b[0;31m`\u001b[0m\u001b[0mleft\u001b[0m\u001b[0;31m`\u001b[0m \u001b[0mon\u001b[0m \u001b[0mbatch\u001b[0m \u001b[0mmembers\u001b[0m \u001b[0mwhere\u001b[0m \u001b[0mconverged\u001b[0m \u001b[1;32mis\u001b[0m \u001b[1;32mTrue\u001b[0m\u001b[1;33m.\u001b[0m\u001b[1;33m\u001b[0m\u001b[1;33m\u001b[0m\u001b[0m\n\u001b[0;32m    238\u001b[0m         \u001b[0mOtherwise\u001b[0m\u001b[1;33m,\u001b[0m \u001b[0mit\u001b[0m \u001b[0mcorresponds\u001b[0m \u001b[0mto\u001b[0m \u001b[0mthe\u001b[0m \u001b[0mlast\u001b[0m \u001b[0minterval\u001b[0m \u001b[0mcomputed\u001b[0m\u001b[1;33m.\u001b[0m\u001b[1;33m\u001b[0m\u001b[1;33m\u001b[0m\u001b[0m\n\u001b[0;32m    239\u001b[0m   \"\"\"\n\u001b[0;32m    240\u001b[0m   \u001b[1;32mwith\u001b[0m \u001b[0mtf\u001b[0m\u001b[1;33m.\u001b[0m\u001b[0mname_scope\u001b[0m\u001b[1;33m(\u001b[0m\u001b[0mname\u001b[0m \u001b[1;32mor\u001b[0m \u001b[1;34m'hager_zhang'\u001b[0m\u001b[1;33m)\u001b[0m\u001b[1;33m:\u001b[0m\u001b[1;33m\u001b[0m\u001b[1;33m\u001b[0m\u001b[0m\n\u001b[1;32m--> 241\u001b[1;33m     val_0, val_initial, f_lim, prepare_evals = _prepare_args(\n\u001b[0m\u001b[0;32m    242\u001b[0m         \u001b[0mvalue_and_gradients_function\u001b[0m\u001b[1;33m,\u001b[0m\u001b[1;33m\u001b[0m\u001b[1;33m\u001b[0m\u001b[0m\n\u001b[0;32m    243\u001b[0m         \u001b[0minitial_step_size\u001b[0m\u001b[1;33m,\u001b[0m\u001b[1;33m\u001b[0m\u001b[1;33m\u001b[0m\u001b[0m\n\u001b[0;32m    244\u001b[0m         \u001b[0mvalue_at_initial_step\u001b[0m\u001b[1;33m,\u001b[0m\u001b[1;33m\u001b[0m\u001b[1;33m\u001b[0m\u001b[0m\n",
      "\u001b[1;32mc:\\Users\\Zero\\Documents\\skripsiDiko\\Skripsi-PINN\\.venv\\Lib\\site-packages\\tensorflow_probability\\python\\optimizer\\linesearch\\hager_zhang.py\u001b[0m in \u001b[0;36m?\u001b[1;34m(value_and_gradients_function, initial_step_size, val_initial, val_0, approximate_wolfe_threshold)\u001b[0m\n\u001b[0;32m    595\u001b[0m     \u001b[1;32mif\u001b[0m \u001b[0minitial_step_size\u001b[0m \u001b[1;32mis\u001b[0m \u001b[1;32mnot\u001b[0m \u001b[1;32mNone\u001b[0m\u001b[1;33m:\u001b[0m\u001b[1;33m\u001b[0m\u001b[1;33m\u001b[0m\u001b[0m\n\u001b[0;32m    596\u001b[0m       \u001b[0minitial_step_size\u001b[0m \u001b[1;33m=\u001b[0m \u001b[0mtf\u001b[0m\u001b[1;33m.\u001b[0m\u001b[0mconvert_to_tensor\u001b[0m\u001b[1;33m(\u001b[0m\u001b[0minitial_step_size\u001b[0m\u001b[1;33m)\u001b[0m\u001b[1;33m\u001b[0m\u001b[1;33m\u001b[0m\u001b[0m\n\u001b[0;32m    597\u001b[0m     \u001b[1;32melse\u001b[0m\u001b[1;33m:\u001b[0m\u001b[1;33m\u001b[0m\u001b[1;33m\u001b[0m\u001b[0m\n\u001b[0;32m    598\u001b[0m       \u001b[0minitial_step_size\u001b[0m \u001b[1;33m=\u001b[0m \u001b[0mnp\u001b[0m\u001b[1;33m.\u001b[0m\u001b[0mfloat32\u001b[0m\u001b[1;33m(\u001b[0m\u001b[1;36m1.\u001b[0m\u001b[1;33m)\u001b[0m\u001b[1;33m\u001b[0m\u001b[1;33m\u001b[0m\u001b[0m\n\u001b[1;32m--> 599\u001b[1;33m     \u001b[0mval_initial\u001b[0m \u001b[1;33m=\u001b[0m \u001b[0mvalue_and_gradients_function\u001b[0m\u001b[1;33m(\u001b[0m\u001b[0minitial_step_size\u001b[0m\u001b[1;33m)\u001b[0m\u001b[1;33m\u001b[0m\u001b[1;33m\u001b[0m\u001b[0m\n\u001b[0m\u001b[0;32m    600\u001b[0m     \u001b[0meval_count\u001b[0m \u001b[1;33m+=\u001b[0m \u001b[1;36m1\u001b[0m\u001b[1;33m\u001b[0m\u001b[1;33m\u001b[0m\u001b[0m\n\u001b[0;32m    601\u001b[0m \u001b[1;33m\u001b[0m\u001b[0m\n\u001b[0;32m    602\u001b[0m   \u001b[1;32mif\u001b[0m \u001b[0mval_0\u001b[0m \u001b[1;32mis\u001b[0m \u001b[1;32mNone\u001b[0m\u001b[1;33m:\u001b[0m\u001b[1;33m\u001b[0m\u001b[1;33m\u001b[0m\u001b[0m\n",
      "\u001b[1;32mc:\\Users\\Zero\\Documents\\skripsiDiko\\Skripsi-PINN\\.venv\\Lib\\site-packages\\tensorflow_probability\\python\\optimizer\\bfgs_utils.py\u001b[0m in \u001b[0;36m?\u001b[1;34m(t)\u001b[0m\n\u001b[0;32m    307\u001b[0m   \u001b[1;32mdef\u001b[0m \u001b[0m_restricted_func\u001b[0m\u001b[1;33m(\u001b[0m\u001b[0mt\u001b[0m\u001b[1;33m)\u001b[0m\u001b[1;33m:\u001b[0m\u001b[1;33m\u001b[0m\u001b[1;33m\u001b[0m\u001b[0m\n\u001b[0;32m    308\u001b[0m     \u001b[0mpt\u001b[0m \u001b[1;33m=\u001b[0m \u001b[0mposition\u001b[0m \u001b[1;33m+\u001b[0m \u001b[0mt\u001b[0m\u001b[1;33m[\u001b[0m\u001b[1;33m...\u001b[0m\u001b[1;33m,\u001b[0m \u001b[0mtf\u001b[0m\u001b[1;33m.\u001b[0m\u001b[0mnewaxis\u001b[0m\u001b[1;33m]\u001b[0m \u001b[1;33m*\u001b[0m \u001b[0mdirection\u001b[0m\u001b[1;33m\u001b[0m\u001b[1;33m\u001b[0m\u001b[0m\n\u001b[0;32m    309\u001b[0m     \u001b[0mt\u001b[0m \u001b[1;33m=\u001b[0m \u001b[0m_broadcast\u001b[0m\u001b[1;33m(\u001b[0m\u001b[0mt\u001b[0m\u001b[1;33m,\u001b[0m \u001b[0mposition\u001b[0m\u001b[1;33m)\u001b[0m\u001b[1;33m\u001b[0m\u001b[1;33m\u001b[0m\u001b[0m\n\u001b[1;32m--> 310\u001b[1;33m     \u001b[0mobjective_value\u001b[0m\u001b[1;33m,\u001b[0m \u001b[0mgradient\u001b[0m \u001b[1;33m=\u001b[0m \u001b[0mvalue_and_gradients_function\u001b[0m\u001b[1;33m(\u001b[0m\u001b[0mpt\u001b[0m\u001b[1;33m)\u001b[0m\u001b[1;33m\u001b[0m\u001b[1;33m\u001b[0m\u001b[0m\n\u001b[0m\u001b[0;32m    311\u001b[0m     return ValueAndGradient(\n\u001b[0;32m    312\u001b[0m         \u001b[0mx\u001b[0m\u001b[1;33m=\u001b[0m\u001b[0mt\u001b[0m\u001b[1;33m,\u001b[0m\u001b[1;33m\u001b[0m\u001b[1;33m\u001b[0m\u001b[0m\n\u001b[0;32m    313\u001b[0m         \u001b[0mf\u001b[0m\u001b[1;33m=\u001b[0m\u001b[0mobjective_value\u001b[0m\u001b[1;33m,\u001b[0m\u001b[1;33m\u001b[0m\u001b[1;33m\u001b[0m\u001b[0m\n",
      "\u001b[1;32mc:\\Users\\Zero\\Documents\\skripsiDiko\\Skripsi-PINN\\optimizer.py\u001b[0m in \u001b[0;36m?\u001b[1;34m(position)\u001b[0m\n\u001b[0;32m    124\u001b[0m         \u001b[1;31m# Assign position to the model variables\u001b[0m\u001b[1;33m\u001b[0m\u001b[1;33m\u001b[0m\u001b[0m\n\u001b[0;32m    125\u001b[0m             \u001b[0mself\u001b[0m\u001b[1;33m.\u001b[0m\u001b[0massign_model_parameters\u001b[0m\u001b[1;33m(\u001b[0m\u001b[0mposition\u001b[0m\u001b[1;33m)\u001b[0m\u001b[1;33m\u001b[0m\u001b[1;33m\u001b[0m\u001b[0m\n\u001b[0;32m    126\u001b[0m \u001b[1;33m\u001b[0m\u001b[0m\n\u001b[0;32m    127\u001b[0m             \u001b[1;31m# Compute the total loss again with updated model parameters\u001b[0m\u001b[1;33m\u001b[0m\u001b[1;33m\u001b[0m\u001b[0m\n\u001b[1;32m--> 128\u001b[1;33m             \u001b[0mtotal_loss\u001b[0m\u001b[1;33m,\u001b[0m \u001b[0mgradients\u001b[0m \u001b[1;33m=\u001b[0m \u001b[0mself\u001b[0m\u001b[1;33m.\u001b[0m\u001b[0m_compute_gradient\u001b[0m\u001b[1;33m(\u001b[0m\u001b[0mcollocation_batch\u001b[0m\u001b[1;33m,\u001b[0m \u001b[0mlabelled_batch\u001b[0m\u001b[1;33m)\u001b[0m\u001b[1;33m\u001b[0m\u001b[1;33m\u001b[0m\u001b[0m\n\u001b[0m\u001b[0;32m    129\u001b[0m \u001b[1;33m\u001b[0m\u001b[0m\n\u001b[0;32m    130\u001b[0m             \u001b[1;32mreturn\u001b[0m \u001b[0mtotal_loss\u001b[0m\u001b[1;33m,\u001b[0m \u001b[0mgradients\u001b[0m\u001b[1;33m\u001b[0m\u001b[1;33m\u001b[0m\u001b[0m\n",
      "\u001b[1;32mc:\\Users\\Zero\\Documents\\skripsiDiko\\Skripsi-PINN\\optimizer.py\u001b[0m in \u001b[0;36m?\u001b[1;34m(self, collocation_batch, one_labelled_batch)\u001b[0m\n\u001b[0;32m     84\u001b[0m             \u001b[0mcurrent_residue_loss\u001b[0m \u001b[1;33m=\u001b[0m \u001b[0mself\u001b[0m\u001b[1;33m.\u001b[0m\u001b[0m_compute_residue_loss\u001b[0m\u001b[1;33m(\u001b[0m\u001b[0mcollocation_batch\u001b[0m\u001b[1;33m)\u001b[0m\u001b[1;33m\u001b[0m\u001b[1;33m\u001b[0m\u001b[0m\n\u001b[0;32m     85\u001b[0m             \u001b[0mcurrent_labelled_loss\u001b[0m \u001b[1;33m=\u001b[0m \u001b[0mself\u001b[0m\u001b[1;33m.\u001b[0m\u001b[0m_compute_labelled_loss\u001b[0m\u001b[1;33m(\u001b[0m\u001b[0mone_labelled_batch\u001b[0m\u001b[1;33m)\u001b[0m\u001b[1;33m\u001b[0m\u001b[1;33m\u001b[0m\u001b[0m\n\u001b[0;32m     86\u001b[0m             \u001b[0mtotal_loss\u001b[0m \u001b[1;33m=\u001b[0m \u001b[0mcurrent_residue_loss\u001b[0m\u001b[1;33m+\u001b[0m\u001b[0mcurrent_labelled_loss\u001b[0m\u001b[1;33m\u001b[0m\u001b[1;33m\u001b[0m\u001b[0m\n\u001b[0;32m     87\u001b[0m \u001b[1;33m\u001b[0m\u001b[0m\n\u001b[1;32m---> 88\u001b[1;33m         \u001b[0mgrads\u001b[0m \u001b[1;33m=\u001b[0m \u001b[0mtape\u001b[0m\u001b[1;33m.\u001b[0m\u001b[0mgradient\u001b[0m\u001b[1;33m(\u001b[0m\u001b[0mtotal_loss\u001b[0m\u001b[1;33m,\u001b[0m \u001b[0mself\u001b[0m\u001b[1;33m.\u001b[0m\u001b[0mmodel\u001b[0m\u001b[1;33m.\u001b[0m\u001b[0mtrainable_variables\u001b[0m\u001b[1;33m)\u001b[0m\u001b[1;33m\u001b[0m\u001b[1;33m\u001b[0m\u001b[0m\n\u001b[0m\u001b[0;32m     89\u001b[0m         \u001b[0mflattened_gradients\u001b[0m \u001b[1;33m=\u001b[0m \u001b[0mtf\u001b[0m\u001b[1;33m.\u001b[0m\u001b[0mconcat\u001b[0m\u001b[1;33m(\u001b[0m\u001b[1;33m[\u001b[0m\u001b[0mtf\u001b[0m\u001b[1;33m.\u001b[0m\u001b[0mreshape\u001b[0m\u001b[1;33m(\u001b[0m\u001b[0mg\u001b[0m\u001b[1;33m,\u001b[0m \u001b[1;33m[\u001b[0m\u001b[1;33m-\u001b[0m\u001b[1;36m1\u001b[0m\u001b[1;33m]\u001b[0m\u001b[1;33m)\u001b[0m \u001b[1;32mfor\u001b[0m \u001b[0mg\u001b[0m \u001b[1;32min\u001b[0m \u001b[0mgrads\u001b[0m\u001b[1;33m]\u001b[0m\u001b[1;33m,\u001b[0m \u001b[0maxis\u001b[0m\u001b[1;33m=\u001b[0m\u001b[1;36m0\u001b[0m\u001b[1;33m)\u001b[0m\u001b[1;33m\u001b[0m\u001b[1;33m\u001b[0m\u001b[0m\n\u001b[0;32m     90\u001b[0m         \u001b[1;32mreturn\u001b[0m \u001b[0mtotal_loss\u001b[0m\u001b[1;33m,\u001b[0m \u001b[0mflattened_gradients\u001b[0m\u001b[1;33m\u001b[0m\u001b[1;33m\u001b[0m\u001b[0m\n",
      "\u001b[1;32mc:\\Users\\Zero\\Documents\\skripsiDiko\\Skripsi-PINN\\.venv\\Lib\\site-packages\\tensorflow\\python\\eager\\backprop.py\u001b[0m in \u001b[0;36m?\u001b[1;34m(self, target, sources, output_gradients, unconnected_gradients)\u001b[0m\n\u001b[0;32m   1059\u001b[0m               output_gradients))\n\u001b[0;32m   1060\u001b[0m       output_gradients = [None if x is None else ops.convert_to_tensor(x)\n\u001b[0;32m   1061\u001b[0m                           for x in output_gradients]\n\u001b[0;32m   1062\u001b[0m \u001b[1;33m\u001b[0m\u001b[0m\n\u001b[1;32m-> 1063\u001b[1;33m     flat_grad = imperative_grad.imperative_grad(\n\u001b[0m\u001b[0;32m   1064\u001b[0m         \u001b[0mself\u001b[0m\u001b[1;33m.\u001b[0m\u001b[0m_tape\u001b[0m\u001b[1;33m,\u001b[0m\u001b[1;33m\u001b[0m\u001b[1;33m\u001b[0m\u001b[0m\n\u001b[0;32m   1065\u001b[0m         \u001b[0mflat_targets\u001b[0m\u001b[1;33m,\u001b[0m\u001b[1;33m\u001b[0m\u001b[1;33m\u001b[0m\u001b[0m\n\u001b[0;32m   1066\u001b[0m         \u001b[0mflat_sources\u001b[0m\u001b[1;33m,\u001b[0m\u001b[1;33m\u001b[0m\u001b[1;33m\u001b[0m\u001b[0m\n",
      "\u001b[1;32mc:\\Users\\Zero\\Documents\\skripsiDiko\\Skripsi-PINN\\.venv\\Lib\\site-packages\\tensorflow\\python\\eager\\imperative_grad.py\u001b[0m in \u001b[0;36m?\u001b[1;34m(tape, target, sources, output_gradients, sources_raw, unconnected_gradients)\u001b[0m\n\u001b[0;32m     63\u001b[0m   \u001b[1;32mexcept\u001b[0m \u001b[0mValueError\u001b[0m\u001b[1;33m:\u001b[0m\u001b[1;33m\u001b[0m\u001b[1;33m\u001b[0m\u001b[0m\n\u001b[0;32m     64\u001b[0m     raise ValueError(\n\u001b[0;32m     65\u001b[0m         \"Unknown value for unconnected_gradients: %r\" % unconnected_gradients)\n\u001b[0;32m     66\u001b[0m \u001b[1;33m\u001b[0m\u001b[0m\n\u001b[1;32m---> 67\u001b[1;33m   return pywrap_tfe.TFE_Py_TapeGradient(\n\u001b[0m\u001b[0;32m     68\u001b[0m       \u001b[0mtape\u001b[0m\u001b[1;33m.\u001b[0m\u001b[0m_tape\u001b[0m\u001b[1;33m,\u001b[0m  \u001b[1;31m# pylint: disable=protected-access\u001b[0m\u001b[1;33m\u001b[0m\u001b[1;33m\u001b[0m\u001b[0m\n\u001b[0;32m     69\u001b[0m       \u001b[0mtarget\u001b[0m\u001b[1;33m,\u001b[0m\u001b[1;33m\u001b[0m\u001b[1;33m\u001b[0m\u001b[0m\n\u001b[0;32m     70\u001b[0m       \u001b[0msources\u001b[0m\u001b[1;33m,\u001b[0m\u001b[1;33m\u001b[0m\u001b[1;33m\u001b[0m\u001b[0m\n",
      "\u001b[1;32mc:\\Users\\Zero\\Documents\\skripsiDiko\\Skripsi-PINN\\.venv\\Lib\\site-packages\\tensorflow\\python\\eager\\backprop.py\u001b[0m in \u001b[0;36m?\u001b[1;34m(op_name, attr_tuple, num_inputs, inputs, outputs, out_grads, skip_input_indices, forward_pass_name_scope)\u001b[0m\n\u001b[0;32m    142\u001b[0m     \u001b[0mgradient_name_scope\u001b[0m \u001b[1;33m=\u001b[0m \u001b[1;34m\"gradient_tape/\"\u001b[0m\u001b[1;33m\u001b[0m\u001b[1;33m\u001b[0m\u001b[0m\n\u001b[0;32m    143\u001b[0m     \u001b[1;32mif\u001b[0m \u001b[0mforward_pass_name_scope\u001b[0m\u001b[1;33m:\u001b[0m\u001b[1;33m\u001b[0m\u001b[1;33m\u001b[0m\u001b[0m\n\u001b[0;32m    144\u001b[0m       \u001b[0mgradient_name_scope\u001b[0m \u001b[1;33m+=\u001b[0m \u001b[0mforward_pass_name_scope\u001b[0m \u001b[1;33m+\u001b[0m \u001b[1;34m\"/\"\u001b[0m\u001b[1;33m\u001b[0m\u001b[1;33m\u001b[0m\u001b[0m\n\u001b[0;32m    145\u001b[0m     \u001b[1;32mwith\u001b[0m \u001b[0mops\u001b[0m\u001b[1;33m.\u001b[0m\u001b[0mname_scope\u001b[0m\u001b[1;33m(\u001b[0m\u001b[0mgradient_name_scope\u001b[0m\u001b[1;33m)\u001b[0m\u001b[1;33m:\u001b[0m\u001b[1;33m\u001b[0m\u001b[1;33m\u001b[0m\u001b[0m\n\u001b[1;32m--> 146\u001b[1;33m       \u001b[1;32mreturn\u001b[0m \u001b[0mgrad_fn\u001b[0m\u001b[1;33m(\u001b[0m\u001b[0mmock_op\u001b[0m\u001b[1;33m,\u001b[0m \u001b[1;33m*\u001b[0m\u001b[0mout_grads\u001b[0m\u001b[1;33m)\u001b[0m\u001b[1;33m\u001b[0m\u001b[1;33m\u001b[0m\u001b[0m\n\u001b[0m\u001b[0;32m    147\u001b[0m   \u001b[1;32melse\u001b[0m\u001b[1;33m:\u001b[0m\u001b[1;33m\u001b[0m\u001b[1;33m\u001b[0m\u001b[0m\n\u001b[0;32m    148\u001b[0m     \u001b[1;32mreturn\u001b[0m \u001b[0mgrad_fn\u001b[0m\u001b[1;33m(\u001b[0m\u001b[0mmock_op\u001b[0m\u001b[1;33m,\u001b[0m \u001b[1;33m*\u001b[0m\u001b[0mout_grads\u001b[0m\u001b[1;33m)\u001b[0m\u001b[1;33m\u001b[0m\u001b[1;33m\u001b[0m\u001b[0m\n",
      "\u001b[1;32mc:\\Users\\Zero\\Documents\\skripsiDiko\\Skripsi-PINN\\.venv\\Lib\\site-packages\\tensorflow\\python\\ops\\math_grad.py\u001b[0m in \u001b[0;36m?\u001b[1;34m(op, grad)\u001b[0m\n\u001b[0;32m    245\u001b[0m \u001b[1;33m@\u001b[0m\u001b[0mops\u001b[0m\u001b[1;33m.\u001b[0m\u001b[0mRegisterGradient\u001b[0m\u001b[1;33m(\u001b[0m\u001b[1;34m\"Mean\"\u001b[0m\u001b[1;33m)\u001b[0m\u001b[1;33m\u001b[0m\u001b[1;33m\u001b[0m\u001b[0m\n\u001b[0;32m    246\u001b[0m \u001b[1;32mdef\u001b[0m \u001b[0m_MeanGrad\u001b[0m\u001b[1;33m(\u001b[0m\u001b[0mop\u001b[0m\u001b[1;33m,\u001b[0m \u001b[0mgrad\u001b[0m\u001b[1;33m)\u001b[0m\u001b[1;33m:\u001b[0m\u001b[1;33m\u001b[0m\u001b[1;33m\u001b[0m\u001b[0m\n\u001b[0;32m    247\u001b[0m   \u001b[1;34m\"\"\"Gradient for Mean.\"\"\"\u001b[0m\u001b[1;33m\u001b[0m\u001b[1;33m\u001b[0m\u001b[0m\n\u001b[1;32m--> 248\u001b[1;33m   \u001b[0msum_grad\u001b[0m \u001b[1;33m=\u001b[0m \u001b[0m_SumGrad\u001b[0m\u001b[1;33m(\u001b[0m\u001b[0mop\u001b[0m\u001b[1;33m,\u001b[0m \u001b[0mgrad\u001b[0m\u001b[1;33m)\u001b[0m\u001b[1;33m[\u001b[0m\u001b[1;36m0\u001b[0m\u001b[1;33m]\u001b[0m\u001b[1;33m\u001b[0m\u001b[1;33m\u001b[0m\u001b[0m\n\u001b[0m\u001b[0;32m    249\u001b[0m   \u001b[0minput_shape\u001b[0m \u001b[1;33m=\u001b[0m \u001b[0mop\u001b[0m\u001b[1;33m.\u001b[0m\u001b[0minputs\u001b[0m\u001b[1;33m[\u001b[0m\u001b[1;36m0\u001b[0m\u001b[1;33m]\u001b[0m\u001b[1;33m.\u001b[0m\u001b[0m_shape_tuple\u001b[0m\u001b[1;33m(\u001b[0m\u001b[1;33m)\u001b[0m  \u001b[1;31m# pylint: disable=protected-access\u001b[0m\u001b[1;33m\u001b[0m\u001b[1;33m\u001b[0m\u001b[0m\n\u001b[0;32m    250\u001b[0m   \u001b[0moutput_shape\u001b[0m \u001b[1;33m=\u001b[0m \u001b[0mop\u001b[0m\u001b[1;33m.\u001b[0m\u001b[0moutputs\u001b[0m\u001b[1;33m[\u001b[0m\u001b[1;36m0\u001b[0m\u001b[1;33m]\u001b[0m\u001b[1;33m.\u001b[0m\u001b[0m_shape_tuple\u001b[0m\u001b[1;33m(\u001b[0m\u001b[1;33m)\u001b[0m  \u001b[1;31m# pylint: disable=protected-access\u001b[0m\u001b[1;33m\u001b[0m\u001b[1;33m\u001b[0m\u001b[0m\n\u001b[0;32m    251\u001b[0m   if (input_shape is not None and output_shape is not None and\n",
      "\u001b[1;32mc:\\Users\\Zero\\Documents\\skripsiDiko\\Skripsi-PINN\\.venv\\Lib\\site-packages\\tensorflow\\python\\ops\\math_grad.py\u001b[0m in \u001b[0;36m?\u001b[1;34m(op, grad)\u001b[0m\n\u001b[0;32m    205\u001b[0m       \u001b[1;31m# TODO(apassos) remove this once device placement for eager ops makes\u001b[0m\u001b[1;33m\u001b[0m\u001b[1;33m\u001b[0m\u001b[0m\n\u001b[0;32m    206\u001b[0m       \u001b[1;31m# more sense.\u001b[0m\u001b[1;33m\u001b[0m\u001b[1;33m\u001b[0m\u001b[0m\n\u001b[0;32m    207\u001b[0m       output_shape_kept_dims = math_ops.reduced_shape(input_shape,\n\u001b[0;32m    208\u001b[0m                                                       op.inputs[1])\n\u001b[1;32m--> 209\u001b[1;33m     \u001b[0mgrad\u001b[0m \u001b[1;33m=\u001b[0m \u001b[0marray_ops\u001b[0m\u001b[1;33m.\u001b[0m\u001b[0mreshape\u001b[0m\u001b[1;33m(\u001b[0m\u001b[0mgrad\u001b[0m\u001b[1;33m,\u001b[0m \u001b[0moutput_shape_kept_dims\u001b[0m\u001b[1;33m)\u001b[0m\u001b[1;33m\u001b[0m\u001b[1;33m\u001b[0m\u001b[0m\n\u001b[0m\u001b[0;32m    210\u001b[0m   \u001b[1;32mreturn\u001b[0m \u001b[1;33m[\u001b[0m\u001b[0marray_ops\u001b[0m\u001b[1;33m.\u001b[0m\u001b[0mbroadcast_to\u001b[0m\u001b[1;33m(\u001b[0m\u001b[0mgrad\u001b[0m\u001b[1;33m,\u001b[0m \u001b[0minput_shape\u001b[0m\u001b[1;33m)\u001b[0m\u001b[1;33m,\u001b[0m \u001b[1;32mNone\u001b[0m\u001b[1;33m]\u001b[0m\u001b[1;33m\u001b[0m\u001b[1;33m\u001b[0m\u001b[0m\n",
      "\u001b[1;32mc:\\Users\\Zero\\Documents\\skripsiDiko\\Skripsi-PINN\\.venv\\Lib\\site-packages\\tensorflow\\python\\util\\traceback_utils.py\u001b[0m in \u001b[0;36m?\u001b[1;34m(*args, **kwargs)\u001b[0m\n\u001b[0;32m    151\u001b[0m     \u001b[1;32mexcept\u001b[0m \u001b[0mException\u001b[0m \u001b[1;32mas\u001b[0m \u001b[0me\u001b[0m\u001b[1;33m:\u001b[0m\u001b[1;33m\u001b[0m\u001b[1;33m\u001b[0m\u001b[0m\n\u001b[0;32m    152\u001b[0m       \u001b[0mfiltered_tb\u001b[0m \u001b[1;33m=\u001b[0m \u001b[0m_process_traceback_frames\u001b[0m\u001b[1;33m(\u001b[0m\u001b[0me\u001b[0m\u001b[1;33m.\u001b[0m\u001b[0m__traceback__\u001b[0m\u001b[1;33m)\u001b[0m\u001b[1;33m\u001b[0m\u001b[1;33m\u001b[0m\u001b[0m\n\u001b[0;32m    153\u001b[0m       \u001b[1;32mraise\u001b[0m \u001b[0me\u001b[0m\u001b[1;33m.\u001b[0m\u001b[0mwith_traceback\u001b[0m\u001b[1;33m(\u001b[0m\u001b[0mfiltered_tb\u001b[0m\u001b[1;33m)\u001b[0m \u001b[1;32mfrom\u001b[0m \u001b[1;32mNone\u001b[0m\u001b[1;33m\u001b[0m\u001b[1;33m\u001b[0m\u001b[0m\n\u001b[0;32m    154\u001b[0m     \u001b[1;32mfinally\u001b[0m\u001b[1;33m:\u001b[0m\u001b[1;33m\u001b[0m\u001b[1;33m\u001b[0m\u001b[0m\n\u001b[1;32m--> 155\u001b[1;33m       \u001b[1;32mdel\u001b[0m \u001b[0mfiltered_tb\u001b[0m\u001b[1;33m\u001b[0m\u001b[1;33m\u001b[0m\u001b[0m\n\u001b[0m",
      "\u001b[1;32mc:\\Users\\Zero\\Documents\\skripsiDiko\\Skripsi-PINN\\.venv\\Lib\\site-packages\\tensorflow\\python\\util\\dispatch.py\u001b[0m in \u001b[0;36m?\u001b[1;34m(*args, **kwargs)\u001b[0m\n\u001b[0;32m   1173\u001b[0m \u001b[1;33m\u001b[0m\u001b[0m\n\u001b[0;32m   1174\u001b[0m       \u001b[1;31m# Fallback dispatch system (dispatch v1):\u001b[0m\u001b[1;33m\u001b[0m\u001b[1;33m\u001b[0m\u001b[0m\n\u001b[0;32m   1175\u001b[0m       \u001b[1;32mtry\u001b[0m\u001b[1;33m:\u001b[0m\u001b[1;33m\u001b[0m\u001b[1;33m\u001b[0m\u001b[0m\n\u001b[0;32m   1176\u001b[0m         \u001b[1;32mreturn\u001b[0m \u001b[0mdispatch_target\u001b[0m\u001b[1;33m(\u001b[0m\u001b[1;33m*\u001b[0m\u001b[0margs\u001b[0m\u001b[1;33m,\u001b[0m \u001b[1;33m**\u001b[0m\u001b[0mkwargs\u001b[0m\u001b[1;33m)\u001b[0m\u001b[1;33m\u001b[0m\u001b[1;33m\u001b[0m\u001b[0m\n\u001b[1;32m-> 1177\u001b[1;33m       \u001b[1;32mexcept\u001b[0m \u001b[1;33m(\u001b[0m\u001b[0mTypeError\u001b[0m\u001b[1;33m,\u001b[0m \u001b[0mValueError\u001b[0m\u001b[1;33m)\u001b[0m\u001b[1;33m:\u001b[0m\u001b[1;33m\u001b[0m\u001b[1;33m\u001b[0m\u001b[0m\n\u001b[0m\u001b[0;32m   1178\u001b[0m         \u001b[1;31m# Note: convert_to_eager_tensor currently raises a ValueError, not a\u001b[0m\u001b[1;33m\u001b[0m\u001b[1;33m\u001b[0m\u001b[0m\n\u001b[0;32m   1179\u001b[0m         \u001b[1;31m# TypeError, when given unexpected types.  So we need to catch both.\u001b[0m\u001b[1;33m\u001b[0m\u001b[1;33m\u001b[0m\u001b[0m\n\u001b[0;32m   1180\u001b[0m         \u001b[0mresult\u001b[0m \u001b[1;33m=\u001b[0m \u001b[0mdispatch\u001b[0m\u001b[1;33m(\u001b[0m\u001b[0mop_dispatch_handler\u001b[0m\u001b[1;33m,\u001b[0m \u001b[0margs\u001b[0m\u001b[1;33m,\u001b[0m \u001b[0mkwargs\u001b[0m\u001b[1;33m)\u001b[0m\u001b[1;33m\u001b[0m\u001b[1;33m\u001b[0m\u001b[0m\n",
      "\u001b[1;32mc:\\Users\\Zero\\Documents\\skripsiDiko\\Skripsi-PINN\\.venv\\Lib\\site-packages\\tensorflow\\python\\ops\\array_ops.py\u001b[0m in \u001b[0;36m?\u001b[1;34m(tensor, shape, name)\u001b[0m\n\u001b[0;32m    192\u001b[0m \u001b[1;33m\u001b[0m\u001b[0m\n\u001b[0;32m    193\u001b[0m   \u001b[0mReturns\u001b[0m\u001b[1;33m:\u001b[0m\u001b[1;33m\u001b[0m\u001b[1;33m\u001b[0m\u001b[0m\n\u001b[0;32m    194\u001b[0m     \u001b[0mA\u001b[0m\u001b[0;31m \u001b[0m\u001b[0;31m`\u001b[0m\u001b[0mTensor\u001b[0m\u001b[0;31m`\u001b[0m\u001b[1;33m.\u001b[0m \u001b[0mHas\u001b[0m \u001b[0mthe\u001b[0m \u001b[0msame\u001b[0m \u001b[0mtype\u001b[0m \u001b[1;32mas\u001b[0m\u001b[0;31m \u001b[0m\u001b[0;31m`\u001b[0m\u001b[0mtensor\u001b[0m\u001b[0;31m`\u001b[0m\u001b[1;33m.\u001b[0m\u001b[1;33m\u001b[0m\u001b[1;33m\u001b[0m\u001b[0m\n\u001b[0;32m    195\u001b[0m   \"\"\"\n\u001b[1;32m--> 196\u001b[1;33m   \u001b[0mresult\u001b[0m \u001b[1;33m=\u001b[0m \u001b[0mgen_array_ops\u001b[0m\u001b[1;33m.\u001b[0m\u001b[0mreshape\u001b[0m\u001b[1;33m(\u001b[0m\u001b[0mtensor\u001b[0m\u001b[1;33m,\u001b[0m \u001b[0mshape\u001b[0m\u001b[1;33m,\u001b[0m \u001b[0mname\u001b[0m\u001b[1;33m)\u001b[0m\u001b[1;33m\u001b[0m\u001b[1;33m\u001b[0m\u001b[0m\n\u001b[0m\u001b[0;32m    197\u001b[0m   \u001b[0mtensor_util\u001b[0m\u001b[1;33m.\u001b[0m\u001b[0mmaybe_set_static_shape\u001b[0m\u001b[1;33m(\u001b[0m\u001b[0mresult\u001b[0m\u001b[1;33m,\u001b[0m \u001b[0mshape\u001b[0m\u001b[1;33m)\u001b[0m\u001b[1;33m\u001b[0m\u001b[1;33m\u001b[0m\u001b[0m\n\u001b[0;32m    198\u001b[0m   \u001b[1;32mreturn\u001b[0m \u001b[0mresult\u001b[0m\u001b[1;33m\u001b[0m\u001b[1;33m\u001b[0m\u001b[0m\n",
      "\u001b[1;32mc:\\Users\\Zero\\Documents\\skripsiDiko\\Skripsi-PINN\\.venv\\Lib\\site-packages\\tensorflow\\python\\ops\\gen_array_ops.py\u001b[0m in \u001b[0;36m?\u001b[1;34m(tensor, shape, name)\u001b[0m\n\u001b[0;32m  10627\u001b[0m         _ctx, \"Reshape\", name, tensor, shape)\n\u001b[0;32m  10628\u001b[0m       \u001b[1;32mreturn\u001b[0m \u001b[0m_result\u001b[0m\u001b[1;33m\u001b[0m\u001b[1;33m\u001b[0m\u001b[0m\n\u001b[0;32m  10629\u001b[0m     \u001b[1;32mexcept\u001b[0m \u001b[0m_core\u001b[0m\u001b[1;33m.\u001b[0m\u001b[0m_NotOkStatusException\u001b[0m \u001b[1;32mas\u001b[0m \u001b[0me\u001b[0m\u001b[1;33m:\u001b[0m\u001b[1;33m\u001b[0m\u001b[1;33m\u001b[0m\u001b[0m\n\u001b[0;32m  10630\u001b[0m       \u001b[0m_ops\u001b[0m\u001b[1;33m.\u001b[0m\u001b[0mraise_from_not_ok_status\u001b[0m\u001b[1;33m(\u001b[0m\u001b[0me\u001b[0m\u001b[1;33m,\u001b[0m \u001b[0mname\u001b[0m\u001b[1;33m)\u001b[0m\u001b[1;33m\u001b[0m\u001b[1;33m\u001b[0m\u001b[0m\n\u001b[1;32m> 10631\u001b[1;33m     \u001b[1;32mexcept\u001b[0m \u001b[0m_core\u001b[0m\u001b[1;33m.\u001b[0m\u001b[0m_FallbackException\u001b[0m\u001b[1;33m:\u001b[0m\u001b[1;33m\u001b[0m\u001b[1;33m\u001b[0m\u001b[0m\n\u001b[0m\u001b[0;32m  10632\u001b[0m       \u001b[1;32mpass\u001b[0m\u001b[1;33m\u001b[0m\u001b[1;33m\u001b[0m\u001b[0m\n\u001b[0;32m  10633\u001b[0m     \u001b[1;32mtry\u001b[0m\u001b[1;33m:\u001b[0m\u001b[1;33m\u001b[0m\u001b[1;33m\u001b[0m\u001b[0m\n\u001b[0;32m  10634\u001b[0m       return reshape_eager_fallback(\n",
      "\u001b[1;31mKeyboardInterrupt\u001b[0m: "
     ]
    }
   ],
   "source": [
    "alpha = .2e-3 \n",
    "gamma = 10e-3 \n",
    "beta2 = 100e3*(1e-30)\n",
    "regularizer_param = 1\n",
    "optimizer = pinnOptimizer(model, batched_data, alpha, gamma, beta2)\n",
    "optimizer.fit(1)"
   ]
  },
  {
   "cell_type": "code",
   "execution_count": 37,
   "metadata": {},
   "outputs": [],
   "source": [
    "T, Z = np.meshgrid(t_new, zlocs)\n",
    "tZ = np.stack((T.flatten(), Z.flatten()), axis = -1)\n",
    "result = optimizer.model(tZ).numpy() \n",
    "\n",
    "result_u = result[:, 0].reshape(T.shape)\n",
    "result_v = result[:, 1].reshape(T.shape)"
   ]
  },
  {
   "cell_type": "code",
   "execution_count": 39,
   "metadata": {},
   "outputs": [],
   "source": [
    "result_P = (result_u**2 + result_v**2)"
   ]
  },
  {
   "cell_type": "code",
   "execution_count": 38,
   "metadata": {},
   "outputs": [
    {
     "data": {
      "text/plain": [
       "array([[3.78618024e-05, 3.80334059e-05, 3.82105245e-05, ...,\n",
       "        1.44386195e-05, 1.47508899e-05, 1.50666292e-05],\n",
       "       [3.55440920e-06, 3.58097395e-06, 3.60896502e-06, ...,\n",
       "        5.64085785e-05, 5.67192692e-05, 5.70255543e-05],\n",
       "       [2.52546088e-05, 2.46245436e-05, 2.39934452e-05, ...,\n",
       "        5.86887218e-05, 5.89084848e-05, 5.91316348e-05],\n",
       "       ...,\n",
       "       [2.87929147e-08, 2.87929147e-08, 2.87929147e-08, ...,\n",
       "        2.87929147e-08, 2.87929147e-08, 2.87929147e-08],\n",
       "       [2.87929147e-08, 2.87929147e-08, 2.87929147e-08, ...,\n",
       "        2.87929147e-08, 2.87929147e-08, 2.87929147e-08],\n",
       "       [2.87929147e-08, 2.87929147e-08, 2.87929147e-08, ...,\n",
       "        2.87929147e-08, 2.87929147e-08, 2.87929147e-08]], dtype=float32)"
      ]
     },
     "execution_count": 38,
     "metadata": {},
     "output_type": "execute_result"
    }
   ],
   "source": [
    "result_P"
   ]
  },
  {
   "cell_type": "code",
   "execution_count": 42,
   "metadata": {},
   "outputs": [
    {
     "data": {
      "text/plain": [
       "<matplotlib.contour.QuadContourSet at 0x1cf059cecd0>"
      ]
     },
     "execution_count": 42,
     "metadata": {},
     "output_type": "execute_result"
    },
    {
     "data": {
      "image/png": "[encoded data removed]",
      "text/plain": [
       "<Figure size 640x480 with 1 Axes>"
      ]
     },
     "metadata": {},
     "output_type": "display_data"
    }
   ],
   "source": [
    "plt.contourf(T, Z, result_P, 100, cmap = 'jet')"
   ]
  },
  {
   "cell_type": "code",
   "execution_count": 41,
   "metadata": {},
   "outputs": [],
   "source": [
    "nrange = 200\n",
    "cutoff = -30\n",
    "\n",
    "def plotPulse2D(matrix, t, zlocs, nrange, cutoff):\n",
    "    fig,ax = plt.subplots()\n",
    "    ax.set_title('Pulse Evolution (dB scale)')\n",
    "    thisT = t[int(len(t)/2-nrange):int(len(t)/2+nrange)]*1e12 \n",
    "    thisZ = zlocs \n",
    "    T, Z = np.meshgrid(thisT, thisZ)\n",
    "\n",
    "    matrix = matrix[:, int(len(t)/2-nrange):int(len(t)/2+nrange)]\n",
    "    P = matrix/np.max(matrix)\n",
    "\n",
    "    P[P<1e-100] = 1e-100\n",
    "    P_dB = 10*np.log10(P)\n",
    "    P_dB[P_dB<cutoff] = cutoff\n",
    "\n",
    "    surf = ax.contourf(T,Z,P_dB, levels = 40)\n",
    "    ax.set_xlabel('Time (ps)')\n",
    "    ax.set_ylabel('Distance (m)')\n",
    "    cbar = fig.colorbar(surf, ax = ax)\n",
    "    plt.show()"
   ]
  },
  {
   "cell_type": "code",
   "execution_count": null,
   "metadata": {},
   "outputs": [],
   "source": []
  }
 ],
 "metadata": {
  "kernelspec": {
   "display_name": ".venv",
   "language": "python",
   "name": "python3"
  },
  "language_info": {
   "codemirror_mode": {
    "name": "ipython",
    "version": 3
   },
   "file_extension": ".py",
   "mimetype": "text/x-python",
   "name": "python",
   "nbconvert_exporter": "python",
   "pygments_lexer": "ipython3",
   "version": "3.11.9"
  }
 },
 "nbformat": 4,
 "nbformat_minor": 2
}
