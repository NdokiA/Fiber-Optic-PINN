{
 "cells": [
  {
   "cell_type": "code",
   "execution_count": 1,
   "metadata": {},
   "outputs": [],
   "source": [
    "import silencer\n",
    "from initializer import initData\n",
    "from gradient import nlseGradient\n",
    "from network import physicsNetwork\n",
    "import numpy as np\n",
    "import tensorflow as tf\n"
   ]
  },
  {
   "cell_type": "markdown",
   "metadata": {},
   "source": [
    "# Debugging"
   ]
  },
  {
   "cell_type": "markdown",
   "metadata": {},
   "source": [
    "## initData class"
   ]
  },
  {
   "cell_type": "code",
   "execution_count": 2,
   "metadata": {},
   "outputs": [
    {
     "name": "stdout",
     "output_type": "stream",
     "text": [
      "col_point:10\n",
      "init_point:10\n",
      "bound_up:10\n",
      "bound_down:10\n"
     ]
    }
   ],
   "source": [
    "'''\n",
    "debugging initData class\n",
    "'''\n",
    "#number of samples\n",
    "num_train = 1000\n",
    "num_test = 1000\n",
    "\n",
    "#time and space domain\n",
    "t_f = 5\n",
    "x_f = 2 \n",
    "x_init = -2\n",
    "\n",
    "#traning input\n",
    "##1. random collocation point\n",
    "col_point = np.random.rand(num_train, 2)\n",
    "col_point[..., 0] = t_f*col_point[..., 0] #temporal t domain\n",
    "col_point[..., 1] = (x_f-x_init)*col_point[..., 1] + x_init #spatial x domain\n",
    "\n",
    "##2. Initial f(t,x) array\n",
    "\n",
    "def u0(tx):\n",
    "    t = tx[..., 0, None]\n",
    "    x = tx[..., 1, None]\n",
    "    return np.exp(-x**2)\n",
    "init_point = np.random.rand(num_train, 2)\n",
    "init_point[..., 0] = t_f*init_point[..., 0] #temporal t domain\n",
    "init_point[..., 1] = (x_f-x_init)*init_point[..., 1] + x_init #spatial x domain\n",
    "\n",
    "u_init = u0(init_point)\n",
    "v_init = np.zeros((num_train, 1))\n",
    "\n",
    "##3. Boundary f(t,x) array\n",
    "bound_point_up = np.random.rand(num_train, 2)\n",
    "bound_point_up[..., 0] = t_f*bound_point_up[..., 0] #temporal t domain\n",
    "bound_point_up[..., 1] = x_f #spatial x domain\n",
    "\n",
    "bound_point_down = np.random.rand(num_train, 2)\n",
    "bound_point_down[..., 0] = t_f*bound_point_down[..., 0] #temporal t domain\n",
    "bound_point_up[..., 1] = x_init #spatial x domain\n",
    "\n",
    "u_bound = np.zeros((num_train, 1))\n",
    "v_bound = np.zeros((num_train, 1))\n",
    "\n",
    "#Initialize and Batch Data\n",
    "preparation = initData()\n",
    "preparation.add_collocation_point(col_point)\n",
    "preparation.add_labelled_data(init_point, u_init, v_init, 'init_point')\n",
    "preparation.add_labelled_data(bound_point_up, u_bound, v_bound, 'bound_up')\n",
    "preparation.add_labelled_data(bound_point_down, u_bound, v_bound, 'bound_down')\n",
    "\n",
    "batched_data = preparation.batch_data()\n",
    "keys = preparation.get_keys()\n",
    "\n",
    "for key in keys:\n",
    "    print(f'{key}:{len(batched_data[key])}')\n"
   ]
  },
  {
   "cell_type": "markdown",
   "metadata": {},
   "source": [
    "## physicsNetwork class"
   ]
  },
  {
   "cell_type": "code",
   "execution_count": 3,
   "metadata": {},
   "outputs": [],
   "source": [
    "dataset = batched_data['col_point']\n",
    "\n",
    "for batch in dataset:\n",
    "    array1, array2, array3 = batch\n",
    "    break\n"
   ]
  },
  {
   "cell_type": "code",
   "execution_count": 4,
   "metadata": {},
   "outputs": [
    {
     "data": {
      "text/plain": [
       "<tf.Tensor: shape=(100,), dtype=float32, numpy=\n",
       "array([-0.30407476,  0.24667335,  0.21904299, -0.29122338,  0.08311113,\n",
       "        0.2256339 ,  0.04010938, -0.00851935, -0.22792432,  0.26407644,\n",
       "        0.1340629 ,  0.05028082, -0.13813128, -0.28314015,  0.01792972,\n",
       "        0.24062829, -0.3247753 ,  0.03228272, -0.22120655,  0.22004618,\n",
       "        0.11860322, -0.23544115,  0.21542837,  0.19841295,  0.28044724,\n",
       "       -0.19349696,  0.11124263, -0.23829292, -0.22869995,  0.16895556,\n",
       "        0.27963617, -0.22212353,  0.06428463, -0.14687975, -0.19082643,\n",
       "       -0.01139907, -0.19963747, -0.11175173, -0.13897723, -0.0070363 ,\n",
       "        0.07388267, -0.1112051 , -0.00877967,  0.05780257,  0.14476222,\n",
       "       -0.05806398,  0.21701132, -0.11471391, -0.06025393, -0.01925865,\n",
       "       -0.07665911, -0.02631295,  0.04151922, -0.11934691, -0.20742996,\n",
       "       -0.00994336, -0.28564376, -0.23755556, -0.26688597, -0.3167264 ,\n",
       "        0.20952559,  0.167249  , -0.05423862, -0.29701126, -0.21804415,\n",
       "        0.23901896,  0.24916573, -0.27269372, -0.07592728, -0.16228935,\n",
       "        0.04545366, -0.1743566 ,  0.21445811,  0.24673855, -0.16306864,\n",
       "        0.18682773, -0.02019845, -0.15518065, -0.21230581, -0.33695066,\n",
       "        0.1863209 ,  0.07027855,  0.01658657, -0.2441496 , -0.00719924,\n",
       "       -0.26897594, -0.10980371, -0.20720223, -0.06244224, -0.09918852,\n",
       "        0.21059132, -0.18140139, -0.33101526, -0.02708825,  0.00566355,\n",
       "       -0.01434703, -0.35479215,  0.10588308,  0.24449639, -0.16089162],\n",
       "      dtype=float32)>"
      ]
     },
     "execution_count": 4,
     "metadata": {},
     "output_type": "execute_result"
    }
   ],
   "source": [
    "model = physicsNetwork.build()\n",
    "model(array1)[...,0]"
   ]
  },
  {
   "cell_type": "markdown",
   "metadata": {},
   "source": [
    "## nlseGradient class"
   ]
  },
  {
   "cell_type": "code",
   "execution_count": null,
   "metadata": {},
   "outputs": [],
   "source": [
    "nlseGrads = nlseGradient(model)\n",
    "deriv_u, deriv_v = nlseGrads.call(array1)\n",
    "deriv_u[0]"
   ]
  },
  {
   "cell_type": "code",
   "execution_count": null,
   "metadata": {},
   "outputs": [],
   "source": []
  }
 ],
 "metadata": {
  "kernelspec": {
   "display_name": "Python 3",
   "language": "python",
   "name": "python3"
  },
  "language_info": {
   "codemirror_mode": {
    "name": "ipython",
    "version": 3
   },
   "file_extension": ".py",
   "mimetype": "text/x-python",
   "name": "python",
   "nbconvert_exporter": "python",
   "pygments_lexer": "ipython3",
   "version": "3.12.6"
  }
 },
 "nbformat": 4,
 "nbformat_minor": 2
}
